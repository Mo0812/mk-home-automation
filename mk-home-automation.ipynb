{
 "metadata": {
  "language_info": {
   "codemirror_mode": {
    "name": "ipython",
    "version": 3
   },
   "file_extension": ".py",
   "mimetype": "text/x-python",
   "name": "python",
   "nbconvert_exporter": "python",
   "pygments_lexer": "ipython3",
   "version": "3.8.5-final"
  },
  "orig_nbformat": 2,
  "kernelspec": {
   "name": "python3",
   "display_name": "Python 3"
  }
 },
 "nbformat": 4,
 "nbformat_minor": 2,
 "cells": [
  {
   "cell_type": "code",
   "execution_count": 1,
   "metadata": {},
   "outputs": [],
   "source": [
    "import pandas as pd"
   ]
  },
  {
   "cell_type": "code",
   "execution_count": 2,
   "metadata": {},
   "outputs": [],
   "source": [
    "df = pd.read_csv(\"automation-protocol.csv\")"
   ]
  },
  {
   "cell_type": "code",
   "execution_count": 3,
   "metadata": {},
   "outputs": [
    {
     "output_type": "execute_result",
     "data": {
      "text/plain": [
       "    id  instanceid  type    lastseen  onoff   color  dimmer  \\\n",
       "0  270       65537     2  1605867202      1  efd275      51   \n",
       "1  271       65538     2  1605868423      1  efd275      48   \n",
       "2  272       65540     2  1605882795      0  efd275     100   \n",
       "3  273       65545     2  1605831076      0  efd275      50   \n",
       "4  274       65546     2  1605892658      0  f1e0b5      50   \n",
       "\n",
       "               protocoltime  \n",
       "0  2020-11-20T21:58:04.000Z  \n",
       "1  2020-11-20T21:58:04.000Z  \n",
       "2  2020-11-20T21:58:04.000Z  \n",
       "3  2020-11-20T21:58:04.000Z  \n",
       "4  2020-11-20T21:58:04.000Z  "
      ],
      "text/html": "<div>\n<style scoped>\n    .dataframe tbody tr th:only-of-type {\n        vertical-align: middle;\n    }\n\n    .dataframe tbody tr th {\n        vertical-align: top;\n    }\n\n    .dataframe thead th {\n        text-align: right;\n    }\n</style>\n<table border=\"1\" class=\"dataframe\">\n  <thead>\n    <tr style=\"text-align: right;\">\n      <th></th>\n      <th>id</th>\n      <th>instanceid</th>\n      <th>type</th>\n      <th>lastseen</th>\n      <th>onoff</th>\n      <th>color</th>\n      <th>dimmer</th>\n      <th>protocoltime</th>\n    </tr>\n  </thead>\n  <tbody>\n    <tr>\n      <th>0</th>\n      <td>270</td>\n      <td>65537</td>\n      <td>2</td>\n      <td>1605867202</td>\n      <td>1</td>\n      <td>efd275</td>\n      <td>51</td>\n      <td>2020-11-20T21:58:04.000Z</td>\n    </tr>\n    <tr>\n      <th>1</th>\n      <td>271</td>\n      <td>65538</td>\n      <td>2</td>\n      <td>1605868423</td>\n      <td>1</td>\n      <td>efd275</td>\n      <td>48</td>\n      <td>2020-11-20T21:58:04.000Z</td>\n    </tr>\n    <tr>\n      <th>2</th>\n      <td>272</td>\n      <td>65540</td>\n      <td>2</td>\n      <td>1605882795</td>\n      <td>0</td>\n      <td>efd275</td>\n      <td>100</td>\n      <td>2020-11-20T21:58:04.000Z</td>\n    </tr>\n    <tr>\n      <th>3</th>\n      <td>273</td>\n      <td>65545</td>\n      <td>2</td>\n      <td>1605831076</td>\n      <td>0</td>\n      <td>efd275</td>\n      <td>50</td>\n      <td>2020-11-20T21:58:04.000Z</td>\n    </tr>\n    <tr>\n      <th>4</th>\n      <td>274</td>\n      <td>65546</td>\n      <td>2</td>\n      <td>1605892658</td>\n      <td>0</td>\n      <td>f1e0b5</td>\n      <td>50</td>\n      <td>2020-11-20T21:58:04.000Z</td>\n    </tr>\n  </tbody>\n</table>\n</div>"
     },
     "metadata": {},
     "execution_count": 3
    }
   ],
   "source": [
    "df.columns = df.columns.str.lower()\n",
    "df.head()"
   ]
  },
  {
   "source": [
    "## Data cleaning"
   ],
   "cell_type": "markdown",
   "metadata": {}
  },
  {
   "cell_type": "code",
   "execution_count": 4,
   "metadata": {},
   "outputs": [
    {
     "output_type": "execute_result",
     "data": {
      "text/plain": [
       "    id  instanceid  type    lastseen  onoff   color  dimmer  \\\n",
       "0  270       65537     2  1605867202      1  efd275      51   \n",
       "1  271       65538     2  1605868423      1  efd275      48   \n",
       "2  272       65540     2  1605882795      0  efd275     100   \n",
       "3  273       65545     2  1605831076      0  efd275      50   \n",
       "4  274       65546     2  1605892658      0  f1e0b5      50   \n",
       "\n",
       "               protocoltime  \n",
       "0 2020-11-20 21:58:04+00:00  \n",
       "1 2020-11-20 21:58:04+00:00  \n",
       "2 2020-11-20 21:58:04+00:00  \n",
       "3 2020-11-20 21:58:04+00:00  \n",
       "4 2020-11-20 21:58:04+00:00  "
      ],
      "text/html": "<div>\n<style scoped>\n    .dataframe tbody tr th:only-of-type {\n        vertical-align: middle;\n    }\n\n    .dataframe tbody tr th {\n        vertical-align: top;\n    }\n\n    .dataframe thead th {\n        text-align: right;\n    }\n</style>\n<table border=\"1\" class=\"dataframe\">\n  <thead>\n    <tr style=\"text-align: right;\">\n      <th></th>\n      <th>id</th>\n      <th>instanceid</th>\n      <th>type</th>\n      <th>lastseen</th>\n      <th>onoff</th>\n      <th>color</th>\n      <th>dimmer</th>\n      <th>protocoltime</th>\n    </tr>\n  </thead>\n  <tbody>\n    <tr>\n      <th>0</th>\n      <td>270</td>\n      <td>65537</td>\n      <td>2</td>\n      <td>1605867202</td>\n      <td>1</td>\n      <td>efd275</td>\n      <td>51</td>\n      <td>2020-11-20 21:58:04+00:00</td>\n    </tr>\n    <tr>\n      <th>1</th>\n      <td>271</td>\n      <td>65538</td>\n      <td>2</td>\n      <td>1605868423</td>\n      <td>1</td>\n      <td>efd275</td>\n      <td>48</td>\n      <td>2020-11-20 21:58:04+00:00</td>\n    </tr>\n    <tr>\n      <th>2</th>\n      <td>272</td>\n      <td>65540</td>\n      <td>2</td>\n      <td>1605882795</td>\n      <td>0</td>\n      <td>efd275</td>\n      <td>100</td>\n      <td>2020-11-20 21:58:04+00:00</td>\n    </tr>\n    <tr>\n      <th>3</th>\n      <td>273</td>\n      <td>65545</td>\n      <td>2</td>\n      <td>1605831076</td>\n      <td>0</td>\n      <td>efd275</td>\n      <td>50</td>\n      <td>2020-11-20 21:58:04+00:00</td>\n    </tr>\n    <tr>\n      <th>4</th>\n      <td>274</td>\n      <td>65546</td>\n      <td>2</td>\n      <td>1605892658</td>\n      <td>0</td>\n      <td>f1e0b5</td>\n      <td>50</td>\n      <td>2020-11-20 21:58:04+00:00</td>\n    </tr>\n  </tbody>\n</table>\n</div>"
     },
     "metadata": {},
     "execution_count": 4
    }
   ],
   "source": [
    "df.protocoltime = pd.to_datetime(df.protocoltime)\n",
    "df.head()"
   ]
  },
  {
   "cell_type": "code",
   "execution_count": 5,
   "metadata": {},
   "outputs": [
    {
     "output_type": "execute_result",
     "data": {
      "text/plain": [
       "    id  instanceid  type    lastseen  onoff   color  dimmer  \\\n",
       "0  270       65537     2  1605867202      1  efd275      51   \n",
       "1  271       65538     2  1605868423      1  efd275      48   \n",
       "2  272       65540     2  1605882795      0  efd275     100   \n",
       "3  273       65545     2  1605831076      0  efd275      50   \n",
       "4  274       65546     2  1605892658      0  f1e0b5      50   \n",
       "\n",
       "               protocoltime  \n",
       "0 2020-11-20 22:00:00+00:00  \n",
       "1 2020-11-20 22:00:00+00:00  \n",
       "2 2020-11-20 22:00:00+00:00  \n",
       "3 2020-11-20 22:00:00+00:00  \n",
       "4 2020-11-20 22:00:00+00:00  "
      ],
      "text/html": "<div>\n<style scoped>\n    .dataframe tbody tr th:only-of-type {\n        vertical-align: middle;\n    }\n\n    .dataframe tbody tr th {\n        vertical-align: top;\n    }\n\n    .dataframe thead th {\n        text-align: right;\n    }\n</style>\n<table border=\"1\" class=\"dataframe\">\n  <thead>\n    <tr style=\"text-align: right;\">\n      <th></th>\n      <th>id</th>\n      <th>instanceid</th>\n      <th>type</th>\n      <th>lastseen</th>\n      <th>onoff</th>\n      <th>color</th>\n      <th>dimmer</th>\n      <th>protocoltime</th>\n    </tr>\n  </thead>\n  <tbody>\n    <tr>\n      <th>0</th>\n      <td>270</td>\n      <td>65537</td>\n      <td>2</td>\n      <td>1605867202</td>\n      <td>1</td>\n      <td>efd275</td>\n      <td>51</td>\n      <td>2020-11-20 22:00:00+00:00</td>\n    </tr>\n    <tr>\n      <th>1</th>\n      <td>271</td>\n      <td>65538</td>\n      <td>2</td>\n      <td>1605868423</td>\n      <td>1</td>\n      <td>efd275</td>\n      <td>48</td>\n      <td>2020-11-20 22:00:00+00:00</td>\n    </tr>\n    <tr>\n      <th>2</th>\n      <td>272</td>\n      <td>65540</td>\n      <td>2</td>\n      <td>1605882795</td>\n      <td>0</td>\n      <td>efd275</td>\n      <td>100</td>\n      <td>2020-11-20 22:00:00+00:00</td>\n    </tr>\n    <tr>\n      <th>3</th>\n      <td>273</td>\n      <td>65545</td>\n      <td>2</td>\n      <td>1605831076</td>\n      <td>0</td>\n      <td>efd275</td>\n      <td>50</td>\n      <td>2020-11-20 22:00:00+00:00</td>\n    </tr>\n    <tr>\n      <th>4</th>\n      <td>274</td>\n      <td>65546</td>\n      <td>2</td>\n      <td>1605892658</td>\n      <td>0</td>\n      <td>f1e0b5</td>\n      <td>50</td>\n      <td>2020-11-20 22:00:00+00:00</td>\n    </tr>\n  </tbody>\n</table>\n</div>"
     },
     "metadata": {},
     "execution_count": 5
    }
   ],
   "source": [
    "df.protocoltime = df.protocoltime.round('15min')\n",
    "df.head()"
   ]
  },
  {
   "source": [
    "### Data enriching"
   ],
   "cell_type": "markdown",
   "metadata": {}
  },
  {
   "cell_type": "code",
   "execution_count": 6,
   "metadata": {},
   "outputs": [
    {
     "output_type": "execute_result",
     "data": {
      "text/plain": [
       "array([65537, 65538, 65540, 65545, 65546, 65547, 65548, 65549, 65551,\n",
       "       65552, 65553, 65554, 65555, 65556, 65557])"
      ]
     },
     "metadata": {},
     "execution_count": 6
    }
   ],
   "source": [
    "devices = df.instanceid.unique()\n",
    "devices"
   ]
  },
  {
   "cell_type": "code",
   "execution_count": 156,
   "metadata": {
    "tags": []
   },
   "outputs": [
    {
     "output_type": "stream",
     "name": "stdout",
     "text": [
      "absolute_min_date=2020-11-20 22:00:00+00:00, absolute_max_date=2020-11-21 20:30:00+00:00\n",
      "True\n"
     ]
    },
    {
     "output_type": "execute_result",
     "data": {
      "text/plain": [
       "     id  instanceid  type    lastseen  onoff   color  dimmer  \\\n",
       "0   270       65537     2  1605867202      1  efd275      51   \n",
       "1   270       65537     2  1605867202      1  efd275      51   \n",
       "2   285       65537     2  1605867202      1  efd275      51   \n",
       "3   285       65537     2  1605867202      1  efd275      51   \n",
       "4   304       65537     2  1605867202      0  f1e0b5      51   \n",
       "5   304       65537     2  1605867202      0  f1e0b5      51   \n",
       "6   304       65537     2  1605867202      0  f1e0b5      51   \n",
       "7   304       65537     2  1605867202      0  f1e0b5      51   \n",
       "8   304       65537     2  1605867202      0  f1e0b5      51   \n",
       "9   304       65537     2  1605867202      0  f1e0b5      51   \n",
       "10  304       65537     2  1605867202      0  f1e0b5      51   \n",
       "11  304       65537     2  1605867202      0  f1e0b5      51   \n",
       "12  304       65537     2  1605867202      0  f1e0b5      51   \n",
       "13  304       65537     2  1605867202      0  f1e0b5      51   \n",
       "14  339       65537     2  1605867202      0  f1e0b5      51   \n",
       "15  339       65537     2  1605867202      0  f1e0b5      51   \n",
       "16  339       65537     2  1605867202      0  f1e0b5      51   \n",
       "17  339       65537     2  1605867202      0  f1e0b5      51   \n",
       "18  339       65537     2  1605867202      0  f1e0b5      51   \n",
       "19  339       65537     2  1605867202      0  f1e0b5      51   \n",
       "20  339       65537     2  1605867202      0  f1e0b5      51   \n",
       "21  339       65537     2  1605867202      0  f1e0b5      51   \n",
       "22  339       65537     2  1605867202      0  f1e0b5      51   \n",
       "23  339       65537     2  1605867202      0  f1e0b5      51   \n",
       "24  339       65537     2  1605867202      0  f1e0b5      51   \n",
       "25  339       65537     2  1605867202      0  f1e0b5      51   \n",
       "26  339       65537     2  1605867202      0  f1e0b5      51   \n",
       "27  339       65537     2  1605867202      0  f1e0b5      51   \n",
       "28  339       65537     2  1605867202      0  f1e0b5      51   \n",
       "29  339       65537     2  1605867202      0  f1e0b5      51   \n",
       "30  339       65537     2  1605867202      0  f1e0b5      51   \n",
       "31  339       65537     2  1605867202      0  f1e0b5      51   \n",
       "32  339       65537     2  1605867202      0  f1e0b5      51   \n",
       "33  339       65537     2  1605867202      0  f1e0b5      51   \n",
       "34  339       65537     2  1605867202      0  f1e0b5      51   \n",
       "35  339       65537     2  1605867202      0  f1e0b5      51   \n",
       "36  339       65537     2  1605867202      0  f1e0b5      51   \n",
       "37  339       65537     2  1605867202      0  f1e0b5      51   \n",
       "38  339       65537     2  1605867202      0  f1e0b5      51   \n",
       "39  339       65537     2  1605867202      0  f1e0b5      51   \n",
       "40  339       65537     2  1605867202      0  f1e0b5      51   \n",
       "41  339       65537     2  1605867202      0  f1e0b5      51   \n",
       "42  339       65537     2  1605867202      0  f1e0b5      51   \n",
       "43  339       65537     2  1605867202      0  f1e0b5      51   \n",
       "44  339       65537     2  1605867202      0  f1e0b5      51   \n",
       "45  339       65537     2  1605867202      0  f1e0b5      51   \n",
       "46  339       65537     2  1605867202      0  f1e0b5      51   \n",
       "47  339       65537     2  1605867202      0  f1e0b5      51   \n",
       "48  339       65537     2  1605867202      0  f1e0b5      51   \n",
       "49  345       65537     2  1605953602      0  f1e0b5      51   \n",
       "50  345       65537     2  1605953602      0  f1e0b5      51   \n",
       "51  345       65537     2  1605953602      0  f1e0b5      51   \n",
       "52  345       65537     2  1605953602      0  f1e0b5      51   \n",
       "53  345       65537     2  1605953602      0  f1e0b5      51   \n",
       "54  345       65537     2  1605953602      0  f1e0b5      51   \n",
       "55  345       65537     2  1605953602      0  f1e0b5      51   \n",
       "56  345       65537     2  1605953602      0  f1e0b5      51   \n",
       "57  345       65537     2  1605953602      0  f1e0b5      51   \n",
       "58  345       65537     2  1605953602      0  f1e0b5      51   \n",
       "59  345       65537     2  1605953602      0  f1e0b5      51   \n",
       "\n",
       "          protocoltime  \n",
       "0  2020-11-20 22:00:00  \n",
       "1  2020-11-20 22:15:00  \n",
       "2  2020-11-20 22:30:00  \n",
       "3  2020-11-20 22:45:00  \n",
       "4  2020-11-20 23:00:00  \n",
       "5  2020-11-20 23:15:00  \n",
       "6  2020-11-20 23:30:00  \n",
       "7  2020-11-20 23:45:00  \n",
       "8  2020-11-21 00:00:00  \n",
       "9  2020-11-21 00:15:00  \n",
       "10 2020-11-21 00:30:00  \n",
       "11 2020-11-21 00:45:00  \n",
       "12 2020-11-21 01:00:00  \n",
       "13 2020-11-21 01:15:00  \n",
       "14 2020-11-21 01:30:00  \n",
       "15 2020-11-21 01:45:00  \n",
       "16 2020-11-21 02:00:00  \n",
       "17 2020-11-21 02:15:00  \n",
       "18 2020-11-21 02:30:00  \n",
       "19 2020-11-21 02:45:00  \n",
       "20 2020-11-21 03:00:00  \n",
       "21 2020-11-21 03:15:00  \n",
       "22 2020-11-21 03:30:00  \n",
       "23 2020-11-21 03:45:00  \n",
       "24 2020-11-21 04:00:00  \n",
       "25 2020-11-21 04:15:00  \n",
       "26 2020-11-21 04:30:00  \n",
       "27 2020-11-21 04:45:00  \n",
       "28 2020-11-21 05:00:00  \n",
       "29 2020-11-21 05:15:00  \n",
       "30 2020-11-21 05:30:00  \n",
       "31 2020-11-21 05:45:00  \n",
       "32 2020-11-21 06:00:00  \n",
       "33 2020-11-21 06:15:00  \n",
       "34 2020-11-21 06:30:00  \n",
       "35 2020-11-21 06:45:00  \n",
       "36 2020-11-21 07:00:00  \n",
       "37 2020-11-21 07:15:00  \n",
       "38 2020-11-21 07:30:00  \n",
       "39 2020-11-21 07:45:00  \n",
       "40 2020-11-21 08:00:00  \n",
       "41 2020-11-21 08:15:00  \n",
       "42 2020-11-21 08:30:00  \n",
       "43 2020-11-21 08:45:00  \n",
       "44 2020-11-21 09:00:00  \n",
       "45 2020-11-21 09:15:00  \n",
       "46 2020-11-21 09:30:00  \n",
       "47 2020-11-21 09:45:00  \n",
       "48 2020-11-21 10:00:00  \n",
       "49 2020-11-21 10:15:00  \n",
       "50 2020-11-21 10:30:00  \n",
       "51 2020-11-21 10:45:00  \n",
       "52 2020-11-21 11:00:00  \n",
       "53 2020-11-21 11:15:00  \n",
       "54 2020-11-21 11:30:00  \n",
       "55 2020-11-21 11:45:00  \n",
       "56 2020-11-21 12:00:00  \n",
       "57 2020-11-21 12:15:00  \n",
       "58 2020-11-21 12:30:00  \n",
       "59 2020-11-21 12:45:00  "
      ],
      "text/html": "<div>\n<style scoped>\n    .dataframe tbody tr th:only-of-type {\n        vertical-align: middle;\n    }\n\n    .dataframe tbody tr th {\n        vertical-align: top;\n    }\n\n    .dataframe thead th {\n        text-align: right;\n    }\n</style>\n<table border=\"1\" class=\"dataframe\">\n  <thead>\n    <tr style=\"text-align: right;\">\n      <th></th>\n      <th>id</th>\n      <th>instanceid</th>\n      <th>type</th>\n      <th>lastseen</th>\n      <th>onoff</th>\n      <th>color</th>\n      <th>dimmer</th>\n      <th>protocoltime</th>\n    </tr>\n  </thead>\n  <tbody>\n    <tr>\n      <th>0</th>\n      <td>270</td>\n      <td>65537</td>\n      <td>2</td>\n      <td>1605867202</td>\n      <td>1</td>\n      <td>efd275</td>\n      <td>51</td>\n      <td>2020-11-20 22:00:00</td>\n    </tr>\n    <tr>\n      <th>1</th>\n      <td>270</td>\n      <td>65537</td>\n      <td>2</td>\n      <td>1605867202</td>\n      <td>1</td>\n      <td>efd275</td>\n      <td>51</td>\n      <td>2020-11-20 22:15:00</td>\n    </tr>\n    <tr>\n      <th>2</th>\n      <td>285</td>\n      <td>65537</td>\n      <td>2</td>\n      <td>1605867202</td>\n      <td>1</td>\n      <td>efd275</td>\n      <td>51</td>\n      <td>2020-11-20 22:30:00</td>\n    </tr>\n    <tr>\n      <th>3</th>\n      <td>285</td>\n      <td>65537</td>\n      <td>2</td>\n      <td>1605867202</td>\n      <td>1</td>\n      <td>efd275</td>\n      <td>51</td>\n      <td>2020-11-20 22:45:00</td>\n    </tr>\n    <tr>\n      <th>4</th>\n      <td>304</td>\n      <td>65537</td>\n      <td>2</td>\n      <td>1605867202</td>\n      <td>0</td>\n      <td>f1e0b5</td>\n      <td>51</td>\n      <td>2020-11-20 23:00:00</td>\n    </tr>\n    <tr>\n      <th>5</th>\n      <td>304</td>\n      <td>65537</td>\n      <td>2</td>\n      <td>1605867202</td>\n      <td>0</td>\n      <td>f1e0b5</td>\n      <td>51</td>\n      <td>2020-11-20 23:15:00</td>\n    </tr>\n    <tr>\n      <th>6</th>\n      <td>304</td>\n      <td>65537</td>\n      <td>2</td>\n      <td>1605867202</td>\n      <td>0</td>\n      <td>f1e0b5</td>\n      <td>51</td>\n      <td>2020-11-20 23:30:00</td>\n    </tr>\n    <tr>\n      <th>7</th>\n      <td>304</td>\n      <td>65537</td>\n      <td>2</td>\n      <td>1605867202</td>\n      <td>0</td>\n      <td>f1e0b5</td>\n      <td>51</td>\n      <td>2020-11-20 23:45:00</td>\n    </tr>\n    <tr>\n      <th>8</th>\n      <td>304</td>\n      <td>65537</td>\n      <td>2</td>\n      <td>1605867202</td>\n      <td>0</td>\n      <td>f1e0b5</td>\n      <td>51</td>\n      <td>2020-11-21 00:00:00</td>\n    </tr>\n    <tr>\n      <th>9</th>\n      <td>304</td>\n      <td>65537</td>\n      <td>2</td>\n      <td>1605867202</td>\n      <td>0</td>\n      <td>f1e0b5</td>\n      <td>51</td>\n      <td>2020-11-21 00:15:00</td>\n    </tr>\n    <tr>\n      <th>10</th>\n      <td>304</td>\n      <td>65537</td>\n      <td>2</td>\n      <td>1605867202</td>\n      <td>0</td>\n      <td>f1e0b5</td>\n      <td>51</td>\n      <td>2020-11-21 00:30:00</td>\n    </tr>\n    <tr>\n      <th>11</th>\n      <td>304</td>\n      <td>65537</td>\n      <td>2</td>\n      <td>1605867202</td>\n      <td>0</td>\n      <td>f1e0b5</td>\n      <td>51</td>\n      <td>2020-11-21 00:45:00</td>\n    </tr>\n    <tr>\n      <th>12</th>\n      <td>304</td>\n      <td>65537</td>\n      <td>2</td>\n      <td>1605867202</td>\n      <td>0</td>\n      <td>f1e0b5</td>\n      <td>51</td>\n      <td>2020-11-21 01:00:00</td>\n    </tr>\n    <tr>\n      <th>13</th>\n      <td>304</td>\n      <td>65537</td>\n      <td>2</td>\n      <td>1605867202</td>\n      <td>0</td>\n      <td>f1e0b5</td>\n      <td>51</td>\n      <td>2020-11-21 01:15:00</td>\n    </tr>\n    <tr>\n      <th>14</th>\n      <td>339</td>\n      <td>65537</td>\n      <td>2</td>\n      <td>1605867202</td>\n      <td>0</td>\n      <td>f1e0b5</td>\n      <td>51</td>\n      <td>2020-11-21 01:30:00</td>\n    </tr>\n    <tr>\n      <th>15</th>\n      <td>339</td>\n      <td>65537</td>\n      <td>2</td>\n      <td>1605867202</td>\n      <td>0</td>\n      <td>f1e0b5</td>\n      <td>51</td>\n      <td>2020-11-21 01:45:00</td>\n    </tr>\n    <tr>\n      <th>16</th>\n      <td>339</td>\n      <td>65537</td>\n      <td>2</td>\n      <td>1605867202</td>\n      <td>0</td>\n      <td>f1e0b5</td>\n      <td>51</td>\n      <td>2020-11-21 02:00:00</td>\n    </tr>\n    <tr>\n      <th>17</th>\n      <td>339</td>\n      <td>65537</td>\n      <td>2</td>\n      <td>1605867202</td>\n      <td>0</td>\n      <td>f1e0b5</td>\n      <td>51</td>\n      <td>2020-11-21 02:15:00</td>\n    </tr>\n    <tr>\n      <th>18</th>\n      <td>339</td>\n      <td>65537</td>\n      <td>2</td>\n      <td>1605867202</td>\n      <td>0</td>\n      <td>f1e0b5</td>\n      <td>51</td>\n      <td>2020-11-21 02:30:00</td>\n    </tr>\n    <tr>\n      <th>19</th>\n      <td>339</td>\n      <td>65537</td>\n      <td>2</td>\n      <td>1605867202</td>\n      <td>0</td>\n      <td>f1e0b5</td>\n      <td>51</td>\n      <td>2020-11-21 02:45:00</td>\n    </tr>\n    <tr>\n      <th>20</th>\n      <td>339</td>\n      <td>65537</td>\n      <td>2</td>\n      <td>1605867202</td>\n      <td>0</td>\n      <td>f1e0b5</td>\n      <td>51</td>\n      <td>2020-11-21 03:00:00</td>\n    </tr>\n    <tr>\n      <th>21</th>\n      <td>339</td>\n      <td>65537</td>\n      <td>2</td>\n      <td>1605867202</td>\n      <td>0</td>\n      <td>f1e0b5</td>\n      <td>51</td>\n      <td>2020-11-21 03:15:00</td>\n    </tr>\n    <tr>\n      <th>22</th>\n      <td>339</td>\n      <td>65537</td>\n      <td>2</td>\n      <td>1605867202</td>\n      <td>0</td>\n      <td>f1e0b5</td>\n      <td>51</td>\n      <td>2020-11-21 03:30:00</td>\n    </tr>\n    <tr>\n      <th>23</th>\n      <td>339</td>\n      <td>65537</td>\n      <td>2</td>\n      <td>1605867202</td>\n      <td>0</td>\n      <td>f1e0b5</td>\n      <td>51</td>\n      <td>2020-11-21 03:45:00</td>\n    </tr>\n    <tr>\n      <th>24</th>\n      <td>339</td>\n      <td>65537</td>\n      <td>2</td>\n      <td>1605867202</td>\n      <td>0</td>\n      <td>f1e0b5</td>\n      <td>51</td>\n      <td>2020-11-21 04:00:00</td>\n    </tr>\n    <tr>\n      <th>25</th>\n      <td>339</td>\n      <td>65537</td>\n      <td>2</td>\n      <td>1605867202</td>\n      <td>0</td>\n      <td>f1e0b5</td>\n      <td>51</td>\n      <td>2020-11-21 04:15:00</td>\n    </tr>\n    <tr>\n      <th>26</th>\n      <td>339</td>\n      <td>65537</td>\n      <td>2</td>\n      <td>1605867202</td>\n      <td>0</td>\n      <td>f1e0b5</td>\n      <td>51</td>\n      <td>2020-11-21 04:30:00</td>\n    </tr>\n    <tr>\n      <th>27</th>\n      <td>339</td>\n      <td>65537</td>\n      <td>2</td>\n      <td>1605867202</td>\n      <td>0</td>\n      <td>f1e0b5</td>\n      <td>51</td>\n      <td>2020-11-21 04:45:00</td>\n    </tr>\n    <tr>\n      <th>28</th>\n      <td>339</td>\n      <td>65537</td>\n      <td>2</td>\n      <td>1605867202</td>\n      <td>0</td>\n      <td>f1e0b5</td>\n      <td>51</td>\n      <td>2020-11-21 05:00:00</td>\n    </tr>\n    <tr>\n      <th>29</th>\n      <td>339</td>\n      <td>65537</td>\n      <td>2</td>\n      <td>1605867202</td>\n      <td>0</td>\n      <td>f1e0b5</td>\n      <td>51</td>\n      <td>2020-11-21 05:15:00</td>\n    </tr>\n    <tr>\n      <th>30</th>\n      <td>339</td>\n      <td>65537</td>\n      <td>2</td>\n      <td>1605867202</td>\n      <td>0</td>\n      <td>f1e0b5</td>\n      <td>51</td>\n      <td>2020-11-21 05:30:00</td>\n    </tr>\n    <tr>\n      <th>31</th>\n      <td>339</td>\n      <td>65537</td>\n      <td>2</td>\n      <td>1605867202</td>\n      <td>0</td>\n      <td>f1e0b5</td>\n      <td>51</td>\n      <td>2020-11-21 05:45:00</td>\n    </tr>\n    <tr>\n      <th>32</th>\n      <td>339</td>\n      <td>65537</td>\n      <td>2</td>\n      <td>1605867202</td>\n      <td>0</td>\n      <td>f1e0b5</td>\n      <td>51</td>\n      <td>2020-11-21 06:00:00</td>\n    </tr>\n    <tr>\n      <th>33</th>\n      <td>339</td>\n      <td>65537</td>\n      <td>2</td>\n      <td>1605867202</td>\n      <td>0</td>\n      <td>f1e0b5</td>\n      <td>51</td>\n      <td>2020-11-21 06:15:00</td>\n    </tr>\n    <tr>\n      <th>34</th>\n      <td>339</td>\n      <td>65537</td>\n      <td>2</td>\n      <td>1605867202</td>\n      <td>0</td>\n      <td>f1e0b5</td>\n      <td>51</td>\n      <td>2020-11-21 06:30:00</td>\n    </tr>\n    <tr>\n      <th>35</th>\n      <td>339</td>\n      <td>65537</td>\n      <td>2</td>\n      <td>1605867202</td>\n      <td>0</td>\n      <td>f1e0b5</td>\n      <td>51</td>\n      <td>2020-11-21 06:45:00</td>\n    </tr>\n    <tr>\n      <th>36</th>\n      <td>339</td>\n      <td>65537</td>\n      <td>2</td>\n      <td>1605867202</td>\n      <td>0</td>\n      <td>f1e0b5</td>\n      <td>51</td>\n      <td>2020-11-21 07:00:00</td>\n    </tr>\n    <tr>\n      <th>37</th>\n      <td>339</td>\n      <td>65537</td>\n      <td>2</td>\n      <td>1605867202</td>\n      <td>0</td>\n      <td>f1e0b5</td>\n      <td>51</td>\n      <td>2020-11-21 07:15:00</td>\n    </tr>\n    <tr>\n      <th>38</th>\n      <td>339</td>\n      <td>65537</td>\n      <td>2</td>\n      <td>1605867202</td>\n      <td>0</td>\n      <td>f1e0b5</td>\n      <td>51</td>\n      <td>2020-11-21 07:30:00</td>\n    </tr>\n    <tr>\n      <th>39</th>\n      <td>339</td>\n      <td>65537</td>\n      <td>2</td>\n      <td>1605867202</td>\n      <td>0</td>\n      <td>f1e0b5</td>\n      <td>51</td>\n      <td>2020-11-21 07:45:00</td>\n    </tr>\n    <tr>\n      <th>40</th>\n      <td>339</td>\n      <td>65537</td>\n      <td>2</td>\n      <td>1605867202</td>\n      <td>0</td>\n      <td>f1e0b5</td>\n      <td>51</td>\n      <td>2020-11-21 08:00:00</td>\n    </tr>\n    <tr>\n      <th>41</th>\n      <td>339</td>\n      <td>65537</td>\n      <td>2</td>\n      <td>1605867202</td>\n      <td>0</td>\n      <td>f1e0b5</td>\n      <td>51</td>\n      <td>2020-11-21 08:15:00</td>\n    </tr>\n    <tr>\n      <th>42</th>\n      <td>339</td>\n      <td>65537</td>\n      <td>2</td>\n      <td>1605867202</td>\n      <td>0</td>\n      <td>f1e0b5</td>\n      <td>51</td>\n      <td>2020-11-21 08:30:00</td>\n    </tr>\n    <tr>\n      <th>43</th>\n      <td>339</td>\n      <td>65537</td>\n      <td>2</td>\n      <td>1605867202</td>\n      <td>0</td>\n      <td>f1e0b5</td>\n      <td>51</td>\n      <td>2020-11-21 08:45:00</td>\n    </tr>\n    <tr>\n      <th>44</th>\n      <td>339</td>\n      <td>65537</td>\n      <td>2</td>\n      <td>1605867202</td>\n      <td>0</td>\n      <td>f1e0b5</td>\n      <td>51</td>\n      <td>2020-11-21 09:00:00</td>\n    </tr>\n    <tr>\n      <th>45</th>\n      <td>339</td>\n      <td>65537</td>\n      <td>2</td>\n      <td>1605867202</td>\n      <td>0</td>\n      <td>f1e0b5</td>\n      <td>51</td>\n      <td>2020-11-21 09:15:00</td>\n    </tr>\n    <tr>\n      <th>46</th>\n      <td>339</td>\n      <td>65537</td>\n      <td>2</td>\n      <td>1605867202</td>\n      <td>0</td>\n      <td>f1e0b5</td>\n      <td>51</td>\n      <td>2020-11-21 09:30:00</td>\n    </tr>\n    <tr>\n      <th>47</th>\n      <td>339</td>\n      <td>65537</td>\n      <td>2</td>\n      <td>1605867202</td>\n      <td>0</td>\n      <td>f1e0b5</td>\n      <td>51</td>\n      <td>2020-11-21 09:45:00</td>\n    </tr>\n    <tr>\n      <th>48</th>\n      <td>339</td>\n      <td>65537</td>\n      <td>2</td>\n      <td>1605867202</td>\n      <td>0</td>\n      <td>f1e0b5</td>\n      <td>51</td>\n      <td>2020-11-21 10:00:00</td>\n    </tr>\n    <tr>\n      <th>49</th>\n      <td>345</td>\n      <td>65537</td>\n      <td>2</td>\n      <td>1605953602</td>\n      <td>0</td>\n      <td>f1e0b5</td>\n      <td>51</td>\n      <td>2020-11-21 10:15:00</td>\n    </tr>\n    <tr>\n      <th>50</th>\n      <td>345</td>\n      <td>65537</td>\n      <td>2</td>\n      <td>1605953602</td>\n      <td>0</td>\n      <td>f1e0b5</td>\n      <td>51</td>\n      <td>2020-11-21 10:30:00</td>\n    </tr>\n    <tr>\n      <th>51</th>\n      <td>345</td>\n      <td>65537</td>\n      <td>2</td>\n      <td>1605953602</td>\n      <td>0</td>\n      <td>f1e0b5</td>\n      <td>51</td>\n      <td>2020-11-21 10:45:00</td>\n    </tr>\n    <tr>\n      <th>52</th>\n      <td>345</td>\n      <td>65537</td>\n      <td>2</td>\n      <td>1605953602</td>\n      <td>0</td>\n      <td>f1e0b5</td>\n      <td>51</td>\n      <td>2020-11-21 11:00:00</td>\n    </tr>\n    <tr>\n      <th>53</th>\n      <td>345</td>\n      <td>65537</td>\n      <td>2</td>\n      <td>1605953602</td>\n      <td>0</td>\n      <td>f1e0b5</td>\n      <td>51</td>\n      <td>2020-11-21 11:15:00</td>\n    </tr>\n    <tr>\n      <th>54</th>\n      <td>345</td>\n      <td>65537</td>\n      <td>2</td>\n      <td>1605953602</td>\n      <td>0</td>\n      <td>f1e0b5</td>\n      <td>51</td>\n      <td>2020-11-21 11:30:00</td>\n    </tr>\n    <tr>\n      <th>55</th>\n      <td>345</td>\n      <td>65537</td>\n      <td>2</td>\n      <td>1605953602</td>\n      <td>0</td>\n      <td>f1e0b5</td>\n      <td>51</td>\n      <td>2020-11-21 11:45:00</td>\n    </tr>\n    <tr>\n      <th>56</th>\n      <td>345</td>\n      <td>65537</td>\n      <td>2</td>\n      <td>1605953602</td>\n      <td>0</td>\n      <td>f1e0b5</td>\n      <td>51</td>\n      <td>2020-11-21 12:00:00</td>\n    </tr>\n    <tr>\n      <th>57</th>\n      <td>345</td>\n      <td>65537</td>\n      <td>2</td>\n      <td>1605953602</td>\n      <td>0</td>\n      <td>f1e0b5</td>\n      <td>51</td>\n      <td>2020-11-21 12:15:00</td>\n    </tr>\n    <tr>\n      <th>58</th>\n      <td>345</td>\n      <td>65537</td>\n      <td>2</td>\n      <td>1605953602</td>\n      <td>0</td>\n      <td>f1e0b5</td>\n      <td>51</td>\n      <td>2020-11-21 12:30:00</td>\n    </tr>\n    <tr>\n      <th>59</th>\n      <td>345</td>\n      <td>65537</td>\n      <td>2</td>\n      <td>1605953602</td>\n      <td>0</td>\n      <td>f1e0b5</td>\n      <td>51</td>\n      <td>2020-11-21 12:45:00</td>\n    </tr>\n  </tbody>\n</table>\n</div>"
     },
     "metadata": {},
     "execution_count": 156
    }
   ],
   "source": [
    "absolute_min_date = df.protocoltime.min(axis=0)\n",
    "absolute_max_date = df.protocoltime.max(axis=0)\n",
    "print(\"absolute_min_date=%s, absolute_max_date=%s\" % (absolute_min_date, absolute_max_date))\n",
    "\n",
    "complete_time_data = pd.date_range(absolute_min_date, absolute_max_date, freq=\"15min\")\n",
    "complete_time_data = complete_time_data.tz_localize(None)\n",
    "\n",
    "complete_arr = []\n",
    "\n",
    "for device in devices:\n",
    "    single_device = df[df[\"instanceid\"] == device]\n",
    "    single_device[\"protocoltime\"] = pd.to_datetime(single_device[\"protocoltime\"]).apply(lambda x: x.replace(tzinfo=None))\n",
    "    last_state = single_device.iloc[0]\n",
    "    last_state[\"onoff\"] = 0\n",
    "    for time_data in complete_time_data.values:\n",
    "        if time_data in single_device.protocoltime.values:\n",
    "            # TODO edge case for multiple events in one time slot\n",
    "            device_row = single_device[single_device[\"protocoltime\"] == time_data]\n",
    "            complete_arr.append(device_row.values[0])\n",
    "            last_state = device_row.iloc[0]\n",
    "        else:\n",
    "            current_state = last_state.copy()\n",
    "            current_state[\"protocoltime\"] = time_data\n",
    "            complete_arr.append(current_state.values)\n",
    "\n",
    "complete_df = pd.DataFrame(complete_arr, columns=df.columns)\n",
    "complete_df = complete_df.sort_values(by=[\"instanceid\", \"protocoltime\"])\n",
    "complete_df.to_csv('test.csv', index=False)\n",
    "complete_df.head(60)"
   ]
  },
  {
   "cell_type": "code",
   "execution_count": 70,
   "metadata": {},
   "outputs": [
    {
     "output_type": "execute_result",
     "data": {
      "text/plain": [
       "    id  instanceid  type    lastseen  onoff   color  dimmer  \\\n",
       "0  270       65537     2  1605867202      1  efd275      51   \n",
       "1  271       65538     2  1605868423      1  efd275      48   \n",
       "2  272       65540     2  1605882795      0  efd275     100   \n",
       "3  273       65545     2  1605831076      0  efd275      50   \n",
       "4  274       65546     2  1605892658      0  f1e0b5      50   \n",
       "\n",
       "               protocoltime weekday  weekofyear  year  month  day   time  \n",
       "0 2020-11-20 22:00:00+00:00  Friday          47  2020     11   20  22:00  \n",
       "1 2020-11-20 22:00:00+00:00  Friday          47  2020     11   20  22:00  \n",
       "2 2020-11-20 22:00:00+00:00  Friday          47  2020     11   20  22:00  \n",
       "3 2020-11-20 22:00:00+00:00  Friday          47  2020     11   20  22:00  \n",
       "4 2020-11-20 22:00:00+00:00  Friday          47  2020     11   20  22:00  "
      ],
      "text/html": "<div>\n<style scoped>\n    .dataframe tbody tr th:only-of-type {\n        vertical-align: middle;\n    }\n\n    .dataframe tbody tr th {\n        vertical-align: top;\n    }\n\n    .dataframe thead th {\n        text-align: right;\n    }\n</style>\n<table border=\"1\" class=\"dataframe\">\n  <thead>\n    <tr style=\"text-align: right;\">\n      <th></th>\n      <th>id</th>\n      <th>instanceid</th>\n      <th>type</th>\n      <th>lastseen</th>\n      <th>onoff</th>\n      <th>color</th>\n      <th>dimmer</th>\n      <th>protocoltime</th>\n      <th>weekday</th>\n      <th>weekofyear</th>\n      <th>year</th>\n      <th>month</th>\n      <th>day</th>\n      <th>time</th>\n    </tr>\n  </thead>\n  <tbody>\n    <tr>\n      <th>0</th>\n      <td>270</td>\n      <td>65537</td>\n      <td>2</td>\n      <td>1605867202</td>\n      <td>1</td>\n      <td>efd275</td>\n      <td>51</td>\n      <td>2020-11-20 22:00:00+00:00</td>\n      <td>Friday</td>\n      <td>47</td>\n      <td>2020</td>\n      <td>11</td>\n      <td>20</td>\n      <td>22:00</td>\n    </tr>\n    <tr>\n      <th>1</th>\n      <td>271</td>\n      <td>65538</td>\n      <td>2</td>\n      <td>1605868423</td>\n      <td>1</td>\n      <td>efd275</td>\n      <td>48</td>\n      <td>2020-11-20 22:00:00+00:00</td>\n      <td>Friday</td>\n      <td>47</td>\n      <td>2020</td>\n      <td>11</td>\n      <td>20</td>\n      <td>22:00</td>\n    </tr>\n    <tr>\n      <th>2</th>\n      <td>272</td>\n      <td>65540</td>\n      <td>2</td>\n      <td>1605882795</td>\n      <td>0</td>\n      <td>efd275</td>\n      <td>100</td>\n      <td>2020-11-20 22:00:00+00:00</td>\n      <td>Friday</td>\n      <td>47</td>\n      <td>2020</td>\n      <td>11</td>\n      <td>20</td>\n      <td>22:00</td>\n    </tr>\n    <tr>\n      <th>3</th>\n      <td>273</td>\n      <td>65545</td>\n      <td>2</td>\n      <td>1605831076</td>\n      <td>0</td>\n      <td>efd275</td>\n      <td>50</td>\n      <td>2020-11-20 22:00:00+00:00</td>\n      <td>Friday</td>\n      <td>47</td>\n      <td>2020</td>\n      <td>11</td>\n      <td>20</td>\n      <td>22:00</td>\n    </tr>\n    <tr>\n      <th>4</th>\n      <td>274</td>\n      <td>65546</td>\n      <td>2</td>\n      <td>1605892658</td>\n      <td>0</td>\n      <td>f1e0b5</td>\n      <td>50</td>\n      <td>2020-11-20 22:00:00+00:00</td>\n      <td>Friday</td>\n      <td>47</td>\n      <td>2020</td>\n      <td>11</td>\n      <td>20</td>\n      <td>22:00</td>\n    </tr>\n  </tbody>\n</table>\n</div>"
     },
     "metadata": {},
     "execution_count": 70
    }
   ],
   "source": [
    "df[\"weekday\"] = df.protocoltime.dt.day_name()\n",
    "df[\"weekofyear\"] = df.protocoltime.dt.weekofyear\n",
    "df[\"year\"] = df.protocoltime.dt.year\n",
    "df[\"month\"] = df.protocoltime.dt.month\n",
    "df[\"day\"] = df.protocoltime.dt.day\n",
    "df[\"time\"] = df.protocoltime.dt.strftime(\"%H:%M\")\n",
    "df.head()"
   ]
  },
  {
   "cell_type": "code",
   "execution_count": 71,
   "metadata": {},
   "outputs": [
    {
     "output_type": "execute_result",
     "data": {
      "text/plain": [
       "Index(['id', 'instanceid', 'type', 'lastseen', 'onoff', 'color', 'dimmer',\n",
       "       'protocoltime', 'weekday', 'weekofyear', 'year', 'month', 'day',\n",
       "       'time'],\n",
       "      dtype='object')"
      ]
     },
     "metadata": {},
     "execution_count": 71
    }
   ],
   "source": [
    "df.columns"
   ]
  },
  {
   "cell_type": "code",
   "execution_count": 72,
   "metadata": {},
   "outputs": [
    {
     "output_type": "execute_result",
     "data": {
      "text/plain": [
       "   instanceid  type  onoff   color  dimmer weekday  weekofyear  year  month  \\\n",
       "0       65537     2      1  efd275      51  Friday          47  2020     11   \n",
       "1       65538     2      1  efd275      48  Friday          47  2020     11   \n",
       "2       65540     2      0  efd275     100  Friday          47  2020     11   \n",
       "3       65545     2      0  efd275      50  Friday          47  2020     11   \n",
       "4       65546     2      0  f1e0b5      50  Friday          47  2020     11   \n",
       "\n",
       "   day   time  \n",
       "0   20  22:00  \n",
       "1   20  22:00  \n",
       "2   20  22:00  \n",
       "3   20  22:00  \n",
       "4   20  22:00  "
      ],
      "text/html": "<div>\n<style scoped>\n    .dataframe tbody tr th:only-of-type {\n        vertical-align: middle;\n    }\n\n    .dataframe tbody tr th {\n        vertical-align: top;\n    }\n\n    .dataframe thead th {\n        text-align: right;\n    }\n</style>\n<table border=\"1\" class=\"dataframe\">\n  <thead>\n    <tr style=\"text-align: right;\">\n      <th></th>\n      <th>instanceid</th>\n      <th>type</th>\n      <th>onoff</th>\n      <th>color</th>\n      <th>dimmer</th>\n      <th>weekday</th>\n      <th>weekofyear</th>\n      <th>year</th>\n      <th>month</th>\n      <th>day</th>\n      <th>time</th>\n    </tr>\n  </thead>\n  <tbody>\n    <tr>\n      <th>0</th>\n      <td>65537</td>\n      <td>2</td>\n      <td>1</td>\n      <td>efd275</td>\n      <td>51</td>\n      <td>Friday</td>\n      <td>47</td>\n      <td>2020</td>\n      <td>11</td>\n      <td>20</td>\n      <td>22:00</td>\n    </tr>\n    <tr>\n      <th>1</th>\n      <td>65538</td>\n      <td>2</td>\n      <td>1</td>\n      <td>efd275</td>\n      <td>48</td>\n      <td>Friday</td>\n      <td>47</td>\n      <td>2020</td>\n      <td>11</td>\n      <td>20</td>\n      <td>22:00</td>\n    </tr>\n    <tr>\n      <th>2</th>\n      <td>65540</td>\n      <td>2</td>\n      <td>0</td>\n      <td>efd275</td>\n      <td>100</td>\n      <td>Friday</td>\n      <td>47</td>\n      <td>2020</td>\n      <td>11</td>\n      <td>20</td>\n      <td>22:00</td>\n    </tr>\n    <tr>\n      <th>3</th>\n      <td>65545</td>\n      <td>2</td>\n      <td>0</td>\n      <td>efd275</td>\n      <td>50</td>\n      <td>Friday</td>\n      <td>47</td>\n      <td>2020</td>\n      <td>11</td>\n      <td>20</td>\n      <td>22:00</td>\n    </tr>\n    <tr>\n      <th>4</th>\n      <td>65546</td>\n      <td>2</td>\n      <td>0</td>\n      <td>f1e0b5</td>\n      <td>50</td>\n      <td>Friday</td>\n      <td>47</td>\n      <td>2020</td>\n      <td>11</td>\n      <td>20</td>\n      <td>22:00</td>\n    </tr>\n  </tbody>\n</table>\n</div>"
     },
     "metadata": {},
     "execution_count": 72
    }
   ],
   "source": [
    "if \"id\" in df.columns:\n",
    "    del df[\"id\"]\n",
    "if \"lastseen\" in df.columns:\n",
    "    del df[\"lastseen\"]\n",
    "if \"protocoltime\" in df.columns:\n",
    "    del df[\"protocoltime\"]\n",
    "df.head()"
   ]
  },
  {
   "cell_type": "code",
   "execution_count": 73,
   "metadata": {},
   "outputs": [
    {
     "output_type": "execute_result",
     "data": {
      "text/plain": [
       "         instanceid    type        onoff       dimmer  weekofyear    year  \\\n",
       "count   1133.000000  1133.0  1133.000000  1133.000000      1133.0  1133.0   \n",
       "mean   65548.847308     2.0     0.439541    75.323919        47.0  2020.0   \n",
       "std        6.229460     0.0     0.496550    31.588064         0.0     0.0   \n",
       "min    65537.000000     2.0     0.000000     0.000000        47.0  2020.0   \n",
       "25%    65546.000000     2.0     0.000000    50.000000        47.0  2020.0   \n",
       "50%    65549.000000     2.0     0.000000   100.000000        47.0  2020.0   \n",
       "75%    65555.000000     2.0     1.000000   100.000000        47.0  2020.0   \n",
       "max    65557.000000     2.0     1.000000   100.000000        47.0  2020.0   \n",
       "\n",
       "        month          day  \n",
       "count  1133.0  1133.000000  \n",
       "mean     11.0    20.960282  \n",
       "std       0.0     0.195381  \n",
       "min      11.0    20.000000  \n",
       "25%      11.0    21.000000  \n",
       "50%      11.0    21.000000  \n",
       "75%      11.0    21.000000  \n",
       "max      11.0    21.000000  "
      ],
      "text/html": "<div>\n<style scoped>\n    .dataframe tbody tr th:only-of-type {\n        vertical-align: middle;\n    }\n\n    .dataframe tbody tr th {\n        vertical-align: top;\n    }\n\n    .dataframe thead th {\n        text-align: right;\n    }\n</style>\n<table border=\"1\" class=\"dataframe\">\n  <thead>\n    <tr style=\"text-align: right;\">\n      <th></th>\n      <th>instanceid</th>\n      <th>type</th>\n      <th>onoff</th>\n      <th>dimmer</th>\n      <th>weekofyear</th>\n      <th>year</th>\n      <th>month</th>\n      <th>day</th>\n    </tr>\n  </thead>\n  <tbody>\n    <tr>\n      <th>count</th>\n      <td>1133.000000</td>\n      <td>1133.0</td>\n      <td>1133.000000</td>\n      <td>1133.000000</td>\n      <td>1133.0</td>\n      <td>1133.0</td>\n      <td>1133.0</td>\n      <td>1133.000000</td>\n    </tr>\n    <tr>\n      <th>mean</th>\n      <td>65548.847308</td>\n      <td>2.0</td>\n      <td>0.439541</td>\n      <td>75.323919</td>\n      <td>47.0</td>\n      <td>2020.0</td>\n      <td>11.0</td>\n      <td>20.960282</td>\n    </tr>\n    <tr>\n      <th>std</th>\n      <td>6.229460</td>\n      <td>0.0</td>\n      <td>0.496550</td>\n      <td>31.588064</td>\n      <td>0.0</td>\n      <td>0.0</td>\n      <td>0.0</td>\n      <td>0.195381</td>\n    </tr>\n    <tr>\n      <th>min</th>\n      <td>65537.000000</td>\n      <td>2.0</td>\n      <td>0.000000</td>\n      <td>0.000000</td>\n      <td>47.0</td>\n      <td>2020.0</td>\n      <td>11.0</td>\n      <td>20.000000</td>\n    </tr>\n    <tr>\n      <th>25%</th>\n      <td>65546.000000</td>\n      <td>2.0</td>\n      <td>0.000000</td>\n      <td>50.000000</td>\n      <td>47.0</td>\n      <td>2020.0</td>\n      <td>11.0</td>\n      <td>21.000000</td>\n    </tr>\n    <tr>\n      <th>50%</th>\n      <td>65549.000000</td>\n      <td>2.0</td>\n      <td>0.000000</td>\n      <td>100.000000</td>\n      <td>47.0</td>\n      <td>2020.0</td>\n      <td>11.0</td>\n      <td>21.000000</td>\n    </tr>\n    <tr>\n      <th>75%</th>\n      <td>65555.000000</td>\n      <td>2.0</td>\n      <td>1.000000</td>\n      <td>100.000000</td>\n      <td>47.0</td>\n      <td>2020.0</td>\n      <td>11.0</td>\n      <td>21.000000</td>\n    </tr>\n    <tr>\n      <th>max</th>\n      <td>65557.000000</td>\n      <td>2.0</td>\n      <td>1.000000</td>\n      <td>100.000000</td>\n      <td>47.0</td>\n      <td>2020.0</td>\n      <td>11.0</td>\n      <td>21.000000</td>\n    </tr>\n  </tbody>\n</table>\n</div>"
     },
     "metadata": {},
     "execution_count": 73
    }
   ],
   "source": [
    "df.describe()"
   ]
  },
  {
   "cell_type": "code",
   "execution_count": 74,
   "metadata": {},
   "outputs": [
    {
     "output_type": "execute_result",
     "data": {
      "text/plain": [
       "instanceid    0\n",
       "type          0\n",
       "onoff         0\n",
       "color         0\n",
       "dimmer        0\n",
       "weekday       0\n",
       "weekofyear    0\n",
       "year          0\n",
       "month         0\n",
       "day           0\n",
       "time          0\n",
       "dtype: int64"
      ]
     },
     "metadata": {},
     "execution_count": 74
    }
   ],
   "source": [
    "df.isnull().sum()"
   ]
  },
  {
   "source": [
    "## Data preparation"
   ],
   "cell_type": "markdown",
   "metadata": {}
  },
  {
   "cell_type": "code",
   "execution_count": 75,
   "metadata": {},
   "outputs": [],
   "source": [
    "from sklearn.model_selection import train_test_split"
   ]
  },
  {
   "cell_type": "code",
   "execution_count": 76,
   "metadata": {},
   "outputs": [],
   "source": [
    "df_train_full, df_test = train_test_split(df, test_size=0.2, random_state=11)\n",
    "df_train, df_val = train_test_split(df_train_full, test_size=0.25, random_state=11)"
   ]
  },
  {
   "cell_type": "code",
   "execution_count": 77,
   "metadata": {},
   "outputs": [],
   "source": [
    "y_train_onoff = (df_train.onoff == 1).values\n",
    "y_val_onoff = (df_val.onoff == 1).values\n",
    "y_test_onoff = (df_test.onoff == 1).values"
   ]
  },
  {
   "cell_type": "code",
   "execution_count": 78,
   "metadata": {},
   "outputs": [],
   "source": [
    "del df_train[\"onoff\"]\n",
    "del df_val[\"onoff\"]\n",
    "del df_test[\"onoff\"]"
   ]
  },
  {
   "source": [
    "### One-Hot encoding"
   ],
   "cell_type": "markdown",
   "metadata": {}
  },
  {
   "cell_type": "code",
   "execution_count": 79,
   "metadata": {},
   "outputs": [],
   "source": [
    "from sklearn.feature_extraction import DictVectorizer"
   ]
  },
  {
   "cell_type": "code",
   "execution_count": 80,
   "metadata": {},
   "outputs": [],
   "source": [
    "dv = DictVectorizer(sparse=False)"
   ]
  },
  {
   "cell_type": "code",
   "execution_count": 81,
   "metadata": {},
   "outputs": [],
   "source": [
    "dict_train_onoff = df_train.to_dict(orient=\"records\")"
   ]
  },
  {
   "cell_type": "code",
   "execution_count": 85,
   "metadata": {},
   "outputs": [],
   "source": [
    "X_train_onoff = dv.fit_transform(dict_train_onoff)"
   ]
  },
  {
   "cell_type": "code",
   "execution_count": 86,
   "metadata": {},
   "outputs": [
    {
     "output_type": "execute_result",
     "data": {
      "text/plain": [
       "{'instanceid': 6,\n",
       " 'type': 36,\n",
       " 'color=f1e0b5': 2,\n",
       " 'dimmer': 5,\n",
       " 'weekday=Saturday': 38,\n",
       " 'weekofyear': 39,\n",
       " 'year': 40,\n",
       " 'month': 7,\n",
       " 'day': 4,\n",
       " 'time=20:00': 30,\n",
       " 'time=15:30': 19,\n",
       " 'time=19:45': 29,\n",
       " 'time=16:15': 22,\n",
       " 'color=efd275': 1,\n",
       " 'weekday=Friday': 37,\n",
       " 'time=22:30': 34,\n",
       " 'time=19:30': 28,\n",
       " 'time=20:15': 31,\n",
       " 'time=15:45': 20,\n",
       " 'color=0': 0,\n",
       " 'time=00:15': 9,\n",
       " 'time=15:15': 18,\n",
       " 'time=17:00': 24,\n",
       " 'time=14:45': 16,\n",
       " 'time=14:30': 15,\n",
       " 'time=22:00': 33,\n",
       " 'time=15:00': 17,\n",
       " 'color=f5faf6': 3,\n",
       " 'time=20:30': 32,\n",
       " 'time=01:30': 10,\n",
       " 'time=14:15': 14,\n",
       " 'time=10:15': 11,\n",
       " 'time=16:00': 21,\n",
       " 'time=17:45': 25,\n",
       " 'time=16:30': 23,\n",
       " 'time=18:15': 26,\n",
       " 'time=00:00': 8,\n",
       " 'time=13:45': 13,\n",
       " 'time=23:00': 35,\n",
       " 'time=18:45': 27,\n",
       " 'time=10:30': 12}"
      ]
     },
     "metadata": {},
     "execution_count": 86
    }
   ],
   "source": [
    "dv.vocabulary_"
   ]
  }
 ]
}