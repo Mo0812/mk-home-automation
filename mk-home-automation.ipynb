{
 "metadata": {
  "language_info": {
   "codemirror_mode": {
    "name": "ipython",
    "version": 3
   },
   "file_extension": ".py",
   "mimetype": "text/x-python",
   "name": "python",
   "nbconvert_exporter": "python",
   "pygments_lexer": "ipython3",
   "version": "3.8.5-final"
  },
  "orig_nbformat": 2,
  "kernelspec": {
   "name": "python3",
   "display_name": "Python 3"
  }
 },
 "nbformat": 4,
 "nbformat_minor": 2,
 "cells": [
  {
   "cell_type": "code",
   "execution_count": 666,
   "metadata": {},
   "outputs": [],
   "source": [
    "import pandas as pd"
   ]
  },
  {
   "cell_type": "code",
   "execution_count": 667,
   "metadata": {},
   "outputs": [],
   "source": [
    "df = pd.read_csv(\"automation-protocol.csv\")"
   ]
  },
  {
   "cell_type": "code",
   "execution_count": 668,
   "metadata": {},
   "outputs": [
    {
     "output_type": "execute_result",
     "data": {
      "text/plain": [
       "    id  instanceid  type    lastseen  onoff   color  dimmer  \\\n",
       "0  270       65537     2  1605867202      1  efd275      51   \n",
       "1  271       65538     2  1605868423      1  efd275      48   \n",
       "2  272       65540     2  1605882795      0  efd275     100   \n",
       "3  273       65545     2  1605831076      0  efd275      50   \n",
       "4  274       65546     2  1605892658      0  f1e0b5      50   \n",
       "\n",
       "               protocoltime  \n",
       "0  2020-11-20T21:58:04.000Z  \n",
       "1  2020-11-20T21:58:04.000Z  \n",
       "2  2020-11-20T21:58:04.000Z  \n",
       "3  2020-11-20T21:58:04.000Z  \n",
       "4  2020-11-20T21:58:04.000Z  "
      ],
      "text/html": "<div>\n<style scoped>\n    .dataframe tbody tr th:only-of-type {\n        vertical-align: middle;\n    }\n\n    .dataframe tbody tr th {\n        vertical-align: top;\n    }\n\n    .dataframe thead th {\n        text-align: right;\n    }\n</style>\n<table border=\"1\" class=\"dataframe\">\n  <thead>\n    <tr style=\"text-align: right;\">\n      <th></th>\n      <th>id</th>\n      <th>instanceid</th>\n      <th>type</th>\n      <th>lastseen</th>\n      <th>onoff</th>\n      <th>color</th>\n      <th>dimmer</th>\n      <th>protocoltime</th>\n    </tr>\n  </thead>\n  <tbody>\n    <tr>\n      <th>0</th>\n      <td>270</td>\n      <td>65537</td>\n      <td>2</td>\n      <td>1605867202</td>\n      <td>1</td>\n      <td>efd275</td>\n      <td>51</td>\n      <td>2020-11-20T21:58:04.000Z</td>\n    </tr>\n    <tr>\n      <th>1</th>\n      <td>271</td>\n      <td>65538</td>\n      <td>2</td>\n      <td>1605868423</td>\n      <td>1</td>\n      <td>efd275</td>\n      <td>48</td>\n      <td>2020-11-20T21:58:04.000Z</td>\n    </tr>\n    <tr>\n      <th>2</th>\n      <td>272</td>\n      <td>65540</td>\n      <td>2</td>\n      <td>1605882795</td>\n      <td>0</td>\n      <td>efd275</td>\n      <td>100</td>\n      <td>2020-11-20T21:58:04.000Z</td>\n    </tr>\n    <tr>\n      <th>3</th>\n      <td>273</td>\n      <td>65545</td>\n      <td>2</td>\n      <td>1605831076</td>\n      <td>0</td>\n      <td>efd275</td>\n      <td>50</td>\n      <td>2020-11-20T21:58:04.000Z</td>\n    </tr>\n    <tr>\n      <th>4</th>\n      <td>274</td>\n      <td>65546</td>\n      <td>2</td>\n      <td>1605892658</td>\n      <td>0</td>\n      <td>f1e0b5</td>\n      <td>50</td>\n      <td>2020-11-20T21:58:04.000Z</td>\n    </tr>\n  </tbody>\n</table>\n</div>"
     },
     "metadata": {},
     "execution_count": 668
    }
   ],
   "source": [
    "df.columns = df.columns.str.lower()\n",
    "df.head()"
   ]
  },
  {
   "source": [
    "## Data cleaning"
   ],
   "cell_type": "markdown",
   "metadata": {}
  },
  {
   "cell_type": "code",
   "execution_count": 669,
   "metadata": {},
   "outputs": [
    {
     "output_type": "execute_result",
     "data": {
      "text/plain": [
       "    id  instanceid  type    lastseen  onoff   color  dimmer  \\\n",
       "0  270       65537     2  1605867202      1  efd275      51   \n",
       "1  271       65538     2  1605868423      1  efd275      48   \n",
       "2  272       65540     2  1605882795      0  efd275     100   \n",
       "3  273       65545     2  1605831076      0  efd275      50   \n",
       "4  274       65546     2  1605892658      0  f1e0b5      50   \n",
       "\n",
       "               protocoltime  \n",
       "0 2020-11-20 21:58:04+00:00  \n",
       "1 2020-11-20 21:58:04+00:00  \n",
       "2 2020-11-20 21:58:04+00:00  \n",
       "3 2020-11-20 21:58:04+00:00  \n",
       "4 2020-11-20 21:58:04+00:00  "
      ],
      "text/html": "<div>\n<style scoped>\n    .dataframe tbody tr th:only-of-type {\n        vertical-align: middle;\n    }\n\n    .dataframe tbody tr th {\n        vertical-align: top;\n    }\n\n    .dataframe thead th {\n        text-align: right;\n    }\n</style>\n<table border=\"1\" class=\"dataframe\">\n  <thead>\n    <tr style=\"text-align: right;\">\n      <th></th>\n      <th>id</th>\n      <th>instanceid</th>\n      <th>type</th>\n      <th>lastseen</th>\n      <th>onoff</th>\n      <th>color</th>\n      <th>dimmer</th>\n      <th>protocoltime</th>\n    </tr>\n  </thead>\n  <tbody>\n    <tr>\n      <th>0</th>\n      <td>270</td>\n      <td>65537</td>\n      <td>2</td>\n      <td>1605867202</td>\n      <td>1</td>\n      <td>efd275</td>\n      <td>51</td>\n      <td>2020-11-20 21:58:04+00:00</td>\n    </tr>\n    <tr>\n      <th>1</th>\n      <td>271</td>\n      <td>65538</td>\n      <td>2</td>\n      <td>1605868423</td>\n      <td>1</td>\n      <td>efd275</td>\n      <td>48</td>\n      <td>2020-11-20 21:58:04+00:00</td>\n    </tr>\n    <tr>\n      <th>2</th>\n      <td>272</td>\n      <td>65540</td>\n      <td>2</td>\n      <td>1605882795</td>\n      <td>0</td>\n      <td>efd275</td>\n      <td>100</td>\n      <td>2020-11-20 21:58:04+00:00</td>\n    </tr>\n    <tr>\n      <th>3</th>\n      <td>273</td>\n      <td>65545</td>\n      <td>2</td>\n      <td>1605831076</td>\n      <td>0</td>\n      <td>efd275</td>\n      <td>50</td>\n      <td>2020-11-20 21:58:04+00:00</td>\n    </tr>\n    <tr>\n      <th>4</th>\n      <td>274</td>\n      <td>65546</td>\n      <td>2</td>\n      <td>1605892658</td>\n      <td>0</td>\n      <td>f1e0b5</td>\n      <td>50</td>\n      <td>2020-11-20 21:58:04+00:00</td>\n    </tr>\n  </tbody>\n</table>\n</div>"
     },
     "metadata": {},
     "execution_count": 669
    }
   ],
   "source": [
    "df.protocoltime = pd.to_datetime(df.protocoltime)\n",
    "df.head()"
   ]
  },
  {
   "cell_type": "code",
   "execution_count": 670,
   "metadata": {},
   "outputs": [
    {
     "output_type": "execute_result",
     "data": {
      "text/plain": [
       "    id  instanceid  type    lastseen  onoff   color  dimmer  \\\n",
       "0  270       65537     2  1605867202      1  efd275      51   \n",
       "1  271       65538     2  1605868423      1  efd275      48   \n",
       "2  272       65540     2  1605882795      0  efd275     100   \n",
       "3  273       65545     2  1605831076      0  efd275      50   \n",
       "4  274       65546     2  1605892658      0  f1e0b5      50   \n",
       "\n",
       "               protocoltime  \n",
       "0 2020-11-20 22:00:00+00:00  \n",
       "1 2020-11-20 22:00:00+00:00  \n",
       "2 2020-11-20 22:00:00+00:00  \n",
       "3 2020-11-20 22:00:00+00:00  \n",
       "4 2020-11-20 22:00:00+00:00  "
      ],
      "text/html": "<div>\n<style scoped>\n    .dataframe tbody tr th:only-of-type {\n        vertical-align: middle;\n    }\n\n    .dataframe tbody tr th {\n        vertical-align: top;\n    }\n\n    .dataframe thead th {\n        text-align: right;\n    }\n</style>\n<table border=\"1\" class=\"dataframe\">\n  <thead>\n    <tr style=\"text-align: right;\">\n      <th></th>\n      <th>id</th>\n      <th>instanceid</th>\n      <th>type</th>\n      <th>lastseen</th>\n      <th>onoff</th>\n      <th>color</th>\n      <th>dimmer</th>\n      <th>protocoltime</th>\n    </tr>\n  </thead>\n  <tbody>\n    <tr>\n      <th>0</th>\n      <td>270</td>\n      <td>65537</td>\n      <td>2</td>\n      <td>1605867202</td>\n      <td>1</td>\n      <td>efd275</td>\n      <td>51</td>\n      <td>2020-11-20 22:00:00+00:00</td>\n    </tr>\n    <tr>\n      <th>1</th>\n      <td>271</td>\n      <td>65538</td>\n      <td>2</td>\n      <td>1605868423</td>\n      <td>1</td>\n      <td>efd275</td>\n      <td>48</td>\n      <td>2020-11-20 22:00:00+00:00</td>\n    </tr>\n    <tr>\n      <th>2</th>\n      <td>272</td>\n      <td>65540</td>\n      <td>2</td>\n      <td>1605882795</td>\n      <td>0</td>\n      <td>efd275</td>\n      <td>100</td>\n      <td>2020-11-20 22:00:00+00:00</td>\n    </tr>\n    <tr>\n      <th>3</th>\n      <td>273</td>\n      <td>65545</td>\n      <td>2</td>\n      <td>1605831076</td>\n      <td>0</td>\n      <td>efd275</td>\n      <td>50</td>\n      <td>2020-11-20 22:00:00+00:00</td>\n    </tr>\n    <tr>\n      <th>4</th>\n      <td>274</td>\n      <td>65546</td>\n      <td>2</td>\n      <td>1605892658</td>\n      <td>0</td>\n      <td>f1e0b5</td>\n      <td>50</td>\n      <td>2020-11-20 22:00:00+00:00</td>\n    </tr>\n  </tbody>\n</table>\n</div>"
     },
     "metadata": {},
     "execution_count": 670
    }
   ],
   "source": [
    "df.protocoltime = df.protocoltime.round('15min')\n",
    "df.head()"
   ]
  },
  {
   "source": [
    "### Data enriching"
   ],
   "cell_type": "markdown",
   "metadata": {}
  },
  {
   "cell_type": "code",
   "execution_count": 671,
   "metadata": {},
   "outputs": [
    {
     "output_type": "execute_result",
     "data": {
      "text/plain": [
       "array([65537, 65538, 65540, 65545, 65546, 65547, 65548, 65549, 65551,\n",
       "       65552, 65553, 65554, 65555, 65556, 65557])"
      ]
     },
     "metadata": {},
     "execution_count": 671
    }
   ],
   "source": [
    "devices = df.instanceid.unique()\n",
    "devices"
   ]
  },
  {
   "cell_type": "code",
   "execution_count": 672,
   "metadata": {
    "tags": []
   },
   "outputs": [
    {
     "output_type": "stream",
     "name": "stdout",
     "text": [
      "absolute_min_date=2020-11-20 22:00:00+00:00, absolute_max_date=2020-11-22 21:30:00+00:00\n"
     ]
    },
    {
     "output_type": "execute_result",
     "data": {
      "text/plain": [
       "    id  instanceid  type    lastseen  onoff   color  dimmer  \\\n",
       "0  270       65537     2  1605867202      1  efd275      51   \n",
       "1  270       65537     2  1605867202      1  efd275      51   \n",
       "2  285       65537     2  1605867202      1  efd275      51   \n",
       "3  285       65537     2  1605867202      1  efd275      51   \n",
       "4  304       65537     2  1605867202      0  f1e0b5      51   \n",
       "\n",
       "         protocoltime  \n",
       "0 2020-11-20 22:00:00  \n",
       "1 2020-11-20 22:15:00  \n",
       "2 2020-11-20 22:30:00  \n",
       "3 2020-11-20 22:45:00  \n",
       "4 2020-11-20 23:00:00  "
      ],
      "text/html": "<div>\n<style scoped>\n    .dataframe tbody tr th:only-of-type {\n        vertical-align: middle;\n    }\n\n    .dataframe tbody tr th {\n        vertical-align: top;\n    }\n\n    .dataframe thead th {\n        text-align: right;\n    }\n</style>\n<table border=\"1\" class=\"dataframe\">\n  <thead>\n    <tr style=\"text-align: right;\">\n      <th></th>\n      <th>id</th>\n      <th>instanceid</th>\n      <th>type</th>\n      <th>lastseen</th>\n      <th>onoff</th>\n      <th>color</th>\n      <th>dimmer</th>\n      <th>protocoltime</th>\n    </tr>\n  </thead>\n  <tbody>\n    <tr>\n      <th>0</th>\n      <td>270</td>\n      <td>65537</td>\n      <td>2</td>\n      <td>1605867202</td>\n      <td>1</td>\n      <td>efd275</td>\n      <td>51</td>\n      <td>2020-11-20 22:00:00</td>\n    </tr>\n    <tr>\n      <th>1</th>\n      <td>270</td>\n      <td>65537</td>\n      <td>2</td>\n      <td>1605867202</td>\n      <td>1</td>\n      <td>efd275</td>\n      <td>51</td>\n      <td>2020-11-20 22:15:00</td>\n    </tr>\n    <tr>\n      <th>2</th>\n      <td>285</td>\n      <td>65537</td>\n      <td>2</td>\n      <td>1605867202</td>\n      <td>1</td>\n      <td>efd275</td>\n      <td>51</td>\n      <td>2020-11-20 22:30:00</td>\n    </tr>\n    <tr>\n      <th>3</th>\n      <td>285</td>\n      <td>65537</td>\n      <td>2</td>\n      <td>1605867202</td>\n      <td>1</td>\n      <td>efd275</td>\n      <td>51</td>\n      <td>2020-11-20 22:45:00</td>\n    </tr>\n    <tr>\n      <th>4</th>\n      <td>304</td>\n      <td>65537</td>\n      <td>2</td>\n      <td>1605867202</td>\n      <td>0</td>\n      <td>f1e0b5</td>\n      <td>51</td>\n      <td>2020-11-20 23:00:00</td>\n    </tr>\n  </tbody>\n</table>\n</div>"
     },
     "metadata": {},
     "execution_count": 672
    }
   ],
   "source": [
    "absolute_min_date = df.protocoltime.min(axis=0)\n",
    "absolute_max_date = df.protocoltime.max(axis=0)\n",
    "print(\"absolute_min_date=%s, absolute_max_date=%s\" % (absolute_min_date, absolute_max_date))\n",
    "\n",
    "complete_time_data = pd.date_range(absolute_min_date, absolute_max_date, freq=\"15min\")\n",
    "complete_time_data = complete_time_data.tz_localize(None)\n",
    "\n",
    "complete_arr = []\n",
    "\n",
    "for device in devices:\n",
    "    single_device = df[df[\"instanceid\"] == device]\n",
    "    single_device[\"protocoltime\"] = pd.to_datetime(single_device[\"protocoltime\"]).apply(lambda x: x.replace(tzinfo=None))\n",
    "    last_state = single_device.iloc[0]\n",
    "    last_state[\"onoff\"] = 0\n",
    "    for time_data in complete_time_data.values:\n",
    "        if time_data in single_device.protocoltime.values:\n",
    "            # TODO edge case for multiple events in one time slot\n",
    "            device_row = single_device[single_device[\"protocoltime\"] == time_data]\n",
    "            complete_arr.append(device_row.values[0])\n",
    "            last_state = device_row.iloc[0]\n",
    "        else:\n",
    "            current_state = last_state.copy()\n",
    "            current_state[\"protocoltime\"] = time_data\n",
    "            complete_arr.append(current_state.values)\n",
    "\n",
    "df = pd.DataFrame(complete_arr, columns=df.columns)\n",
    "df = df.sort_values(by=[\"instanceid\", \"protocoltime\"])\n",
    "df.head()"
   ]
  },
  {
   "cell_type": "code",
   "execution_count": 673,
   "metadata": {},
   "outputs": [],
   "source": [
    "df.color[df.color == 0] = \"f1e0b5\" "
   ]
  },
  {
   "cell_type": "code",
   "execution_count": 674,
   "metadata": {},
   "outputs": [
    {
     "output_type": "execute_result",
     "data": {
      "text/plain": [
       "    id  instanceid  type    lastseen  onoff   color  dimmer  \\\n",
       "0  270       65537     2  1605867202      1  efd275      51   \n",
       "1  270       65537     2  1605867202      1  efd275      51   \n",
       "2  285       65537     2  1605867202      1  efd275      51   \n",
       "3  285       65537     2  1605867202      1  efd275      51   \n",
       "4  304       65537     2  1605867202      0  f1e0b5      51   \n",
       "\n",
       "         protocoltime weekday  weekofyear  year  month  day   time  \n",
       "0 2020-11-20 22:00:00  Friday          47  2020     11   20  22:00  \n",
       "1 2020-11-20 22:15:00  Friday          47  2020     11   20  22:15  \n",
       "2 2020-11-20 22:30:00  Friday          47  2020     11   20  22:30  \n",
       "3 2020-11-20 22:45:00  Friday          47  2020     11   20  22:45  \n",
       "4 2020-11-20 23:00:00  Friday          47  2020     11   20  23:00  "
      ],
      "text/html": "<div>\n<style scoped>\n    .dataframe tbody tr th:only-of-type {\n        vertical-align: middle;\n    }\n\n    .dataframe tbody tr th {\n        vertical-align: top;\n    }\n\n    .dataframe thead th {\n        text-align: right;\n    }\n</style>\n<table border=\"1\" class=\"dataframe\">\n  <thead>\n    <tr style=\"text-align: right;\">\n      <th></th>\n      <th>id</th>\n      <th>instanceid</th>\n      <th>type</th>\n      <th>lastseen</th>\n      <th>onoff</th>\n      <th>color</th>\n      <th>dimmer</th>\n      <th>protocoltime</th>\n      <th>weekday</th>\n      <th>weekofyear</th>\n      <th>year</th>\n      <th>month</th>\n      <th>day</th>\n      <th>time</th>\n    </tr>\n  </thead>\n  <tbody>\n    <tr>\n      <th>0</th>\n      <td>270</td>\n      <td>65537</td>\n      <td>2</td>\n      <td>1605867202</td>\n      <td>1</td>\n      <td>efd275</td>\n      <td>51</td>\n      <td>2020-11-20 22:00:00</td>\n      <td>Friday</td>\n      <td>47</td>\n      <td>2020</td>\n      <td>11</td>\n      <td>20</td>\n      <td>22:00</td>\n    </tr>\n    <tr>\n      <th>1</th>\n      <td>270</td>\n      <td>65537</td>\n      <td>2</td>\n      <td>1605867202</td>\n      <td>1</td>\n      <td>efd275</td>\n      <td>51</td>\n      <td>2020-11-20 22:15:00</td>\n      <td>Friday</td>\n      <td>47</td>\n      <td>2020</td>\n      <td>11</td>\n      <td>20</td>\n      <td>22:15</td>\n    </tr>\n    <tr>\n      <th>2</th>\n      <td>285</td>\n      <td>65537</td>\n      <td>2</td>\n      <td>1605867202</td>\n      <td>1</td>\n      <td>efd275</td>\n      <td>51</td>\n      <td>2020-11-20 22:30:00</td>\n      <td>Friday</td>\n      <td>47</td>\n      <td>2020</td>\n      <td>11</td>\n      <td>20</td>\n      <td>22:30</td>\n    </tr>\n    <tr>\n      <th>3</th>\n      <td>285</td>\n      <td>65537</td>\n      <td>2</td>\n      <td>1605867202</td>\n      <td>1</td>\n      <td>efd275</td>\n      <td>51</td>\n      <td>2020-11-20 22:45:00</td>\n      <td>Friday</td>\n      <td>47</td>\n      <td>2020</td>\n      <td>11</td>\n      <td>20</td>\n      <td>22:45</td>\n    </tr>\n    <tr>\n      <th>4</th>\n      <td>304</td>\n      <td>65537</td>\n      <td>2</td>\n      <td>1605867202</td>\n      <td>0</td>\n      <td>f1e0b5</td>\n      <td>51</td>\n      <td>2020-11-20 23:00:00</td>\n      <td>Friday</td>\n      <td>47</td>\n      <td>2020</td>\n      <td>11</td>\n      <td>20</td>\n      <td>23:00</td>\n    </tr>\n  </tbody>\n</table>\n</div>"
     },
     "metadata": {},
     "execution_count": 674
    }
   ],
   "source": [
    "df[\"weekday\"] = df.protocoltime.dt.day_name()\n",
    "df[\"weekofyear\"] = df.protocoltime.dt.weekofyear\n",
    "df[\"year\"] = df.protocoltime.dt.year\n",
    "df[\"month\"] = df.protocoltime.dt.month\n",
    "df[\"day\"] = df.protocoltime.dt.day\n",
    "df[\"time\"] = df.protocoltime.dt.strftime(\"%H:%M\")\n",
    "df.head()"
   ]
  },
  {
   "cell_type": "code",
   "execution_count": 675,
   "metadata": {},
   "outputs": [
    {
     "output_type": "execute_result",
     "data": {
      "text/plain": [
       "Index(['id', 'instanceid', 'type', 'lastseen', 'onoff', 'color', 'dimmer',\n",
       "       'protocoltime', 'weekday', 'weekofyear', 'year', 'month', 'day',\n",
       "       'time'],\n",
       "      dtype='object')"
      ]
     },
     "metadata": {},
     "execution_count": 675
    }
   ],
   "source": [
    "df.columns"
   ]
  },
  {
   "cell_type": "code",
   "execution_count": 676,
   "metadata": {},
   "outputs": [
    {
     "output_type": "execute_result",
     "data": {
      "text/plain": [
       "array(['efd275', 'f1e0b5', 'f5faf6', '0'], dtype=object)"
      ]
     },
     "metadata": {},
     "execution_count": 676
    }
   ],
   "source": [
    "df.color.unique()"
   ]
  },
  {
   "cell_type": "code",
   "execution_count": 677,
   "metadata": {},
   "outputs": [
    {
     "output_type": "execute_result",
     "data": {
      "text/plain": [
       "f1e0b5    2354\n",
       "f5faf6     296\n",
       "efd275     207\n",
       "0            8\n",
       "Name: color, dtype: int64"
      ]
     },
     "metadata": {},
     "execution_count": 677
    }
   ],
   "source": [
    "df.color.value_counts()"
   ]
  },
  {
   "cell_type": "code",
   "execution_count": 678,
   "metadata": {},
   "outputs": [
    {
     "output_type": "execute_result",
     "data": {
      "text/plain": [
       "   instanceid  type  onoff weekday  weekofyear  year  month  day   time\n",
       "0       65537     2      1  Friday          47  2020     11   20  22:00\n",
       "1       65537     2      1  Friday          47  2020     11   20  22:15\n",
       "2       65537     2      1  Friday          47  2020     11   20  22:30\n",
       "3       65537     2      1  Friday          47  2020     11   20  22:45\n",
       "4       65537     2      0  Friday          47  2020     11   20  23:00"
      ],
      "text/html": "<div>\n<style scoped>\n    .dataframe tbody tr th:only-of-type {\n        vertical-align: middle;\n    }\n\n    .dataframe tbody tr th {\n        vertical-align: top;\n    }\n\n    .dataframe thead th {\n        text-align: right;\n    }\n</style>\n<table border=\"1\" class=\"dataframe\">\n  <thead>\n    <tr style=\"text-align: right;\">\n      <th></th>\n      <th>instanceid</th>\n      <th>type</th>\n      <th>onoff</th>\n      <th>weekday</th>\n      <th>weekofyear</th>\n      <th>year</th>\n      <th>month</th>\n      <th>day</th>\n      <th>time</th>\n    </tr>\n  </thead>\n  <tbody>\n    <tr>\n      <th>0</th>\n      <td>65537</td>\n      <td>2</td>\n      <td>1</td>\n      <td>Friday</td>\n      <td>47</td>\n      <td>2020</td>\n      <td>11</td>\n      <td>20</td>\n      <td>22:00</td>\n    </tr>\n    <tr>\n      <th>1</th>\n      <td>65537</td>\n      <td>2</td>\n      <td>1</td>\n      <td>Friday</td>\n      <td>47</td>\n      <td>2020</td>\n      <td>11</td>\n      <td>20</td>\n      <td>22:15</td>\n    </tr>\n    <tr>\n      <th>2</th>\n      <td>65537</td>\n      <td>2</td>\n      <td>1</td>\n      <td>Friday</td>\n      <td>47</td>\n      <td>2020</td>\n      <td>11</td>\n      <td>20</td>\n      <td>22:30</td>\n    </tr>\n    <tr>\n      <th>3</th>\n      <td>65537</td>\n      <td>2</td>\n      <td>1</td>\n      <td>Friday</td>\n      <td>47</td>\n      <td>2020</td>\n      <td>11</td>\n      <td>20</td>\n      <td>22:45</td>\n    </tr>\n    <tr>\n      <th>4</th>\n      <td>65537</td>\n      <td>2</td>\n      <td>0</td>\n      <td>Friday</td>\n      <td>47</td>\n      <td>2020</td>\n      <td>11</td>\n      <td>20</td>\n      <td>23:00</td>\n    </tr>\n  </tbody>\n</table>\n</div>"
     },
     "metadata": {},
     "execution_count": 678
    }
   ],
   "source": [
    "if \"id\" in df.columns:\n",
    "    del df[\"id\"]\n",
    "if \"lastseen\" in df.columns:\n",
    "    del df[\"lastseen\"]\n",
    "if \"protocoltime\" in df.columns:\n",
    "    del df[\"protocoltime\"]\n",
    "if \"color\" in df.columns:\n",
    "    del df[\"color\"]\n",
    "if \"dimmer\" in df.columns:\n",
    "    del df[\"dimmer\"]\n",
    "df.head()"
   ]
  },
  {
   "cell_type": "code",
   "execution_count": 679,
   "metadata": {},
   "outputs": [
    {
     "output_type": "execute_result",
     "data": {
      "text/plain": [
       "         instanceid    type        onoff  weekofyear    year   month  \\\n",
       "count   2865.000000  2865.0  2865.000000      2865.0  2865.0  2865.0   \n",
       "mean   65548.533333     2.0     0.518674        47.0  2020.0    11.0   \n",
       "std        6.196420     0.0     0.499738         0.0     0.0     0.0   \n",
       "min    65537.000000     2.0     0.000000        47.0  2020.0    11.0   \n",
       "25%    65545.000000     2.0     0.000000        47.0  2020.0    11.0   \n",
       "50%    65549.000000     2.0     1.000000        47.0  2020.0    11.0   \n",
       "75%    65554.000000     2.0     1.000000        47.0  2020.0    11.0   \n",
       "max    65557.000000     2.0     1.000000        47.0  2020.0    11.0   \n",
       "\n",
       "               day  \n",
       "count  2865.000000  \n",
       "mean     21.413613  \n",
       "std       0.571332  \n",
       "min      20.000000  \n",
       "25%      21.000000  \n",
       "50%      21.000000  \n",
       "75%      22.000000  \n",
       "max      22.000000  "
      ],
      "text/html": "<div>\n<style scoped>\n    .dataframe tbody tr th:only-of-type {\n        vertical-align: middle;\n    }\n\n    .dataframe tbody tr th {\n        vertical-align: top;\n    }\n\n    .dataframe thead th {\n        text-align: right;\n    }\n</style>\n<table border=\"1\" class=\"dataframe\">\n  <thead>\n    <tr style=\"text-align: right;\">\n      <th></th>\n      <th>instanceid</th>\n      <th>type</th>\n      <th>onoff</th>\n      <th>weekofyear</th>\n      <th>year</th>\n      <th>month</th>\n      <th>day</th>\n    </tr>\n  </thead>\n  <tbody>\n    <tr>\n      <th>count</th>\n      <td>2865.000000</td>\n      <td>2865.0</td>\n      <td>2865.000000</td>\n      <td>2865.0</td>\n      <td>2865.0</td>\n      <td>2865.0</td>\n      <td>2865.000000</td>\n    </tr>\n    <tr>\n      <th>mean</th>\n      <td>65548.533333</td>\n      <td>2.0</td>\n      <td>0.518674</td>\n      <td>47.0</td>\n      <td>2020.0</td>\n      <td>11.0</td>\n      <td>21.413613</td>\n    </tr>\n    <tr>\n      <th>std</th>\n      <td>6.196420</td>\n      <td>0.0</td>\n      <td>0.499738</td>\n      <td>0.0</td>\n      <td>0.0</td>\n      <td>0.0</td>\n      <td>0.571332</td>\n    </tr>\n    <tr>\n      <th>min</th>\n      <td>65537.000000</td>\n      <td>2.0</td>\n      <td>0.000000</td>\n      <td>47.0</td>\n      <td>2020.0</td>\n      <td>11.0</td>\n      <td>20.000000</td>\n    </tr>\n    <tr>\n      <th>25%</th>\n      <td>65545.000000</td>\n      <td>2.0</td>\n      <td>0.000000</td>\n      <td>47.0</td>\n      <td>2020.0</td>\n      <td>11.0</td>\n      <td>21.000000</td>\n    </tr>\n    <tr>\n      <th>50%</th>\n      <td>65549.000000</td>\n      <td>2.0</td>\n      <td>1.000000</td>\n      <td>47.0</td>\n      <td>2020.0</td>\n      <td>11.0</td>\n      <td>21.000000</td>\n    </tr>\n    <tr>\n      <th>75%</th>\n      <td>65554.000000</td>\n      <td>2.0</td>\n      <td>1.000000</td>\n      <td>47.0</td>\n      <td>2020.0</td>\n      <td>11.0</td>\n      <td>22.000000</td>\n    </tr>\n    <tr>\n      <th>max</th>\n      <td>65557.000000</td>\n      <td>2.0</td>\n      <td>1.000000</td>\n      <td>47.0</td>\n      <td>2020.0</td>\n      <td>11.0</td>\n      <td>22.000000</td>\n    </tr>\n  </tbody>\n</table>\n</div>"
     },
     "metadata": {},
     "execution_count": 679
    }
   ],
   "source": [
    "df.describe()"
   ]
  },
  {
   "cell_type": "code",
   "execution_count": 680,
   "metadata": {},
   "outputs": [
    {
     "output_type": "execute_result",
     "data": {
      "text/plain": [
       "instanceid    0\n",
       "type          0\n",
       "onoff         0\n",
       "weekday       0\n",
       "weekofyear    0\n",
       "year          0\n",
       "month         0\n",
       "day           0\n",
       "time          0\n",
       "dtype: int64"
      ]
     },
     "metadata": {},
     "execution_count": 680
    }
   ],
   "source": [
    "df.isnull().sum()"
   ]
  },
  {
   "cell_type": "code",
   "execution_count": 681,
   "metadata": {},
   "outputs": [
    {
     "output_type": "execute_result",
     "data": {
      "text/plain": [
       "array(['22:00', '22:15', '22:30', '22:45', '23:00', '23:15', '23:30',\n",
       "       '23:45', '00:00', '00:15', '00:30', '00:45', '01:00', '01:15',\n",
       "       '01:30', '01:45', '02:00', '02:15', '02:30', '02:45', '03:00',\n",
       "       '03:15', '03:30', '03:45', '04:00', '04:15', '04:30', '04:45',\n",
       "       '05:00', '05:15', '05:30', '05:45', '06:00', '06:15', '06:30',\n",
       "       '06:45', '07:00', '07:15', '07:30', '07:45', '08:00', '08:15',\n",
       "       '08:30', '08:45', '09:00', '09:15', '09:30', '09:45', '10:00',\n",
       "       '10:15', '10:30', '10:45', '11:00', '11:15', '11:30', '11:45',\n",
       "       '12:00', '12:15', '12:30', '12:45', '13:00', '13:15', '13:30',\n",
       "       '13:45', '14:00', '14:15', '14:30', '14:45', '15:00', '15:15',\n",
       "       '15:30', '15:45', '16:00', '16:15', '16:30', '16:45', '17:00',\n",
       "       '17:15', '17:30', '17:45', '18:00', '18:15', '18:30', '18:45',\n",
       "       '19:00', '19:15', '19:30', '19:45', '20:00', '20:15', '20:30',\n",
       "       '20:45', '21:00', '21:15', '21:30', '21:45'], dtype=object)"
      ]
     },
     "metadata": {},
     "execution_count": 681
    }
   ],
   "source": [
    "df.time.unique()"
   ]
  },
  {
   "cell_type": "code",
   "execution_count": null,
   "metadata": {},
   "outputs": [],
   "source": []
  },
  {
   "source": [
    "## Data preparation"
   ],
   "cell_type": "markdown",
   "metadata": {}
  },
  {
   "cell_type": "code",
   "execution_count": 682,
   "metadata": {},
   "outputs": [],
   "source": [
    "from sklearn.model_selection import train_test_split"
   ]
  },
  {
   "cell_type": "code",
   "execution_count": 683,
   "metadata": {},
   "outputs": [],
   "source": [
    "df_train_full, df_test = train_test_split(df, test_size=0.2, random_state=11)\n",
    "df_train, df_val = train_test_split(df_train_full, test_size=0.25, random_state=11)"
   ]
  },
  {
   "cell_type": "code",
   "execution_count": 684,
   "metadata": {},
   "outputs": [],
   "source": [
    "y_train_full_onoff = (df_train_full.onoff == 1).values\n",
    "y_train_onoff = (df_train.onoff == 1).values\n",
    "y_val_onoff = (df_val.onoff == 1).values\n",
    "y_test_onoff = (df_test.onoff == 1).values"
   ]
  },
  {
   "cell_type": "code",
   "execution_count": 685,
   "metadata": {},
   "outputs": [],
   "source": [
    "del df_train_full[\"onoff\"]\n",
    "del df_train[\"onoff\"]\n",
    "del df_val[\"onoff\"]\n",
    "del df_test[\"onoff\"]"
   ]
  },
  {
   "source": [
    "### One-Hot encoding"
   ],
   "cell_type": "markdown",
   "metadata": {}
  },
  {
   "cell_type": "code",
   "execution_count": 686,
   "metadata": {},
   "outputs": [],
   "source": [
    "from sklearn.feature_extraction import DictVectorizer"
   ]
  },
  {
   "cell_type": "code",
   "execution_count": 687,
   "metadata": {},
   "outputs": [],
   "source": [
    "dv = DictVectorizer(sparse=False)\n",
    "dv_full = DictVectorizer(sparse=False)"
   ]
  },
  {
   "cell_type": "code",
   "execution_count": 688,
   "metadata": {},
   "outputs": [],
   "source": [
    "dict_train_full_onoff = df_train_full.to_dict(orient=\"records\")\n",
    "dict_train_onoff = df_train.to_dict(orient=\"records\")\n",
    "dict_val_onoff = df_val.to_dict(orient=\"records\")\n",
    "dict_test_onoff = df_test.to_dict(orient=\"records\")"
   ]
  },
  {
   "cell_type": "code",
   "execution_count": 689,
   "metadata": {},
   "outputs": [],
   "source": [
    "X_train_full_onoff = dv_full.fit_transform(dict_train_full_onoff)\n",
    "X_train_onoff = dv.fit_transform(dict_train_onoff)\n",
    "X_val_onoff = dv.transform(dict_val_onoff)\n",
    "X_test_onoff = dv_full.transform(dict_test_onoff)"
   ]
  },
  {
   "source": [
    "## Training"
   ],
   "cell_type": "markdown",
   "metadata": {}
  },
  {
   "source": [
    "### Logistic Regression"
   ],
   "cell_type": "markdown",
   "metadata": {}
  },
  {
   "cell_type": "code",
   "execution_count": 690,
   "metadata": {},
   "outputs": [],
   "source": [
    "from sklearn.linear_model import LogisticRegression\n",
    "from sklearn.metrics import roc_auc_score"
   ]
  },
  {
   "source": [
    "#### Optimization"
   ],
   "cell_type": "markdown",
   "metadata": {}
  },
  {
   "cell_type": "code",
   "execution_count": 691,
   "metadata": {},
   "outputs": [
    {
     "output_type": "stream",
     "name": "stdout",
     "text": [
      "C=0.001, auc = 0.778\nC=0.01, auc = 0.786\nC=0.1, auc = 0.786\nC=0.5, auc = 0.786\nC=1, auc = 0.786\nC=10, auc = 0.786\n"
     ]
    }
   ],
   "source": [
    "for C in [0.001, 0.01, 0.1, 0.5, 1, 10]:\n",
    "    lr = LogisticRegression(solver='liblinear', C=C, random_state=1)\n",
    "    lr.fit(X_train_onoff, y_train_onoff)\n",
    "    \n",
    "    y_pred = lr.predict_proba(X_val_onoff)[:, 1]\n",
    "    \n",
    "    auc = roc_auc_score(y_val_onoff, y_pred)\n",
    "    print('C=%s, auc = %0.3f' % (C, auc))\n"
   ]
  },
  {
   "cell_type": "code",
   "execution_count": 692,
   "metadata": {},
   "outputs": [],
   "source": [
    "#### Final model"
   ]
  },
  {
   "cell_type": "code",
   "execution_count": 693,
   "metadata": {},
   "outputs": [
    {
     "output_type": "execute_result",
     "data": {
      "text/plain": [
       "LogisticRegression(C=0.1, random_state=1, solver='liblinear')"
      ]
     },
     "metadata": {},
     "execution_count": 693
    }
   ],
   "source": [
    "lr = LogisticRegression(solver='liblinear', C=0.1, random_state=1)\n",
    "lr.fit(X_train_full_onoff, y_train_full_onoff)"
   ]
  },
  {
   "cell_type": "code",
   "execution_count": 694,
   "metadata": {},
   "outputs": [],
   "source": [
    "# dict(zip(dv.get_feature_names(), lr.coef_[0].round(5)))"
   ]
  },
  {
   "source": [
    "### Decision trees"
   ],
   "cell_type": "markdown",
   "metadata": {}
  },
  {
   "cell_type": "code",
   "execution_count": 695,
   "metadata": {},
   "outputs": [],
   "source": [
    "from sklearn.tree import DecisionTreeClassifier"
   ]
  },
  {
   "source": [
    "#### Final model"
   ],
   "cell_type": "markdown",
   "metadata": {}
  },
  {
   "cell_type": "code",
   "execution_count": 696,
   "metadata": {},
   "outputs": [
    {
     "output_type": "execute_result",
     "data": {
      "text/plain": [
       "DecisionTreeClassifier()"
      ]
     },
     "metadata": {},
     "execution_count": 696
    }
   ],
   "source": [
    "dt = DecisionTreeClassifier()\n",
    "dt.fit(X_train_full_onoff, y_train_full_onoff)"
   ]
  },
  {
   "source": [
    "### Random forest"
   ],
   "cell_type": "markdown",
   "metadata": {}
  },
  {
   "cell_type": "code",
   "execution_count": 697,
   "metadata": {},
   "outputs": [],
   "source": [
    "from sklearn.ensemble import RandomForestClassifier"
   ]
  },
  {
   "source": [
    "#### Final model"
   ],
   "cell_type": "markdown",
   "metadata": {}
  },
  {
   "cell_type": "code",
   "execution_count": 698,
   "metadata": {},
   "outputs": [
    {
     "output_type": "execute_result",
     "data": {
      "text/plain": [
       "RandomForestClassifier(n_estimators=10, random_state=3)"
      ]
     },
     "metadata": {},
     "execution_count": 698
    }
   ],
   "source": [
    "rf = RandomForestClassifier(n_estimators=10, random_state=3)\n",
    "rf.fit(X_train_full_onoff, y_train_full_onoff)"
   ]
  },
  {
   "source": [
    "## Evaluation"
   ],
   "cell_type": "markdown",
   "metadata": {}
  },
  {
   "source": [
    "### Logistic regression"
   ],
   "cell_type": "markdown",
   "metadata": {}
  },
  {
   "cell_type": "code",
   "execution_count": 699,
   "metadata": {},
   "outputs": [
    {
     "output_type": "stream",
     "name": "stdout",
     "text": [
      "LR accuracy: 0.6684118673647469\nLR auc: 0.7692627257398402\n"
     ]
    }
   ],
   "source": [
    "y_pred = lr.predict_proba(X_test_onoff)[:, 1]\n",
    "accuracy = (y_test_onoff == (y_pred >= 0.5)).mean()\n",
    "\n",
    "auc = roc_auc_score(y_test_onoff, y_pred)\n",
    "\n",
    "print(\"LR accuracy:\", accuracy)\n",
    "print(\"LR auc:\", auc)"
   ]
  },
  {
   "source": [
    "### Decision trees"
   ],
   "cell_type": "markdown",
   "metadata": {}
  },
  {
   "cell_type": "code",
   "execution_count": 700,
   "metadata": {},
   "outputs": [
    {
     "output_type": "stream",
     "name": "stdout",
     "text": [
      "LR accuracy: 0.9354275741710296\nLR auc: 0.937984164609858\n"
     ]
    }
   ],
   "source": [
    "y_pred = dt.predict_proba(X_test_onoff)[:, 1]\n",
    "accuracy = (y_test_onoff == (y_pred >= 0.5)).mean()\n",
    "\n",
    "auc = roc_auc_score(y_test_onoff, y_pred)\n",
    "\n",
    "print(\"LR accuracy:\", accuracy)\n",
    "print(\"LR auc:\", auc)"
   ]
  },
  {
   "source": [
    "### Random forest"
   ],
   "cell_type": "markdown",
   "metadata": {}
  },
  {
   "cell_type": "code",
   "execution_count": 701,
   "metadata": {},
   "outputs": [
    {
     "output_type": "stream",
     "name": "stdout",
     "text": [
      "LR accuracy: 0.8795811518324608\nLR auc: 0.9275982991617996\n"
     ]
    }
   ],
   "source": [
    "y_pred = rf.predict_proba(X_test_onoff)[:, 1]\n",
    "accuracy = (y_test_onoff == (y_pred >= 0.5)).mean()\n",
    "\n",
    "auc = roc_auc_score(y_test_onoff, y_pred)\n",
    "\n",
    "print(\"LR accuracy:\", accuracy)\n",
    "print(\"LR auc:\", auc)"
   ]
  },
  {
   "source": [
    "## Testing the model(s)"
   ],
   "cell_type": "markdown",
   "metadata": {}
  },
  {
   "cell_type": "code",
   "execution_count": 702,
   "metadata": {},
   "outputs": [],
   "source": [
    "example = {\n",
    "    \"instanceid\": 65540,\n",
    "    \"type\": 2,\n",
    "    \"weekday\": \"Sunday\",\n",
    "    \"weekofyear\": 47,\n",
    "    \"year\": 2020,\n",
    "    \"month\": 11,\n",
    "    \"day\": 22,\n",
    "    \"time\": \"13:30\"\n",
    "}"
   ]
  },
  {
   "cell_type": "code",
   "execution_count": 703,
   "metadata": {},
   "outputs": [
    {
     "output_type": "execute_result",
     "data": {
      "text/plain": [
       "    day  instanceid  month  time=00:00  time=00:15  time=00:30  time=00:45  \\\n",
       "0  22.0     65540.0   11.0         0.0         0.0         0.0         0.0   \n",
       "\n",
       "   time=01:00  time=01:15  time=01:30  ...  time=23:00  time=23:15  \\\n",
       "0         0.0         0.0         0.0  ...         0.0         0.0   \n",
       "\n",
       "   time=23:30  time=23:45  type  weekday=Friday  weekday=Saturday  \\\n",
       "0         0.0         0.0   2.0             0.0               0.0   \n",
       "\n",
       "   weekday=Sunday  weekofyear    year  \n",
       "0             1.0        47.0  2020.0  \n",
       "\n",
       "[1 rows x 105 columns]"
      ],
      "text/html": "<div>\n<style scoped>\n    .dataframe tbody tr th:only-of-type {\n        vertical-align: middle;\n    }\n\n    .dataframe tbody tr th {\n        vertical-align: top;\n    }\n\n    .dataframe thead th {\n        text-align: right;\n    }\n</style>\n<table border=\"1\" class=\"dataframe\">\n  <thead>\n    <tr style=\"text-align: right;\">\n      <th></th>\n      <th>day</th>\n      <th>instanceid</th>\n      <th>month</th>\n      <th>time=00:00</th>\n      <th>time=00:15</th>\n      <th>time=00:30</th>\n      <th>time=00:45</th>\n      <th>time=01:00</th>\n      <th>time=01:15</th>\n      <th>time=01:30</th>\n      <th>...</th>\n      <th>time=23:00</th>\n      <th>time=23:15</th>\n      <th>time=23:30</th>\n      <th>time=23:45</th>\n      <th>type</th>\n      <th>weekday=Friday</th>\n      <th>weekday=Saturday</th>\n      <th>weekday=Sunday</th>\n      <th>weekofyear</th>\n      <th>year</th>\n    </tr>\n  </thead>\n  <tbody>\n    <tr>\n      <th>0</th>\n      <td>22.0</td>\n      <td>65540.0</td>\n      <td>11.0</td>\n      <td>0.0</td>\n      <td>0.0</td>\n      <td>0.0</td>\n      <td>0.0</td>\n      <td>0.0</td>\n      <td>0.0</td>\n      <td>0.0</td>\n      <td>...</td>\n      <td>0.0</td>\n      <td>0.0</td>\n      <td>0.0</td>\n      <td>0.0</td>\n      <td>2.0</td>\n      <td>0.0</td>\n      <td>0.0</td>\n      <td>1.0</td>\n      <td>47.0</td>\n      <td>2020.0</td>\n    </tr>\n  </tbody>\n</table>\n<p>1 rows × 105 columns</p>\n</div>"
     },
     "metadata": {},
     "execution_count": 703
    }
   ],
   "source": [
    "X_example = dv_full.transform([example])\n",
    "pd.DataFrame(X_example, columns=dv.get_feature_names())"
   ]
  },
  {
   "cell_type": "code",
   "execution_count": 704,
   "metadata": {},
   "outputs": [
    {
     "output_type": "execute_result",
     "data": {
      "text/plain": [
       "0.7458990197197287"
      ]
     },
     "metadata": {},
     "execution_count": 704
    }
   ],
   "source": [
    "lr.predict_proba(X_example)[0, 1]"
   ]
  },
  {
   "cell_type": "code",
   "execution_count": null,
   "metadata": {},
   "outputs": [],
   "source": []
  }
 ]
}