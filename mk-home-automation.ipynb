{
 "cells": [
  {
   "cell_type": "code",
   "execution_count": 101,
   "metadata": {},
   "outputs": [],
   "source": [
    "import pandas as pd\n",
    "import numpy as np\n",
    "from matplotlib import pyplot as plt\n",
    "from matplotlib import dates as mdates\n",
    "import seaborn as sns\n",
    "%matplotlib inline\n"
   ]
  },
  {
   "cell_type": "code",
   "execution_count": 102,
   "metadata": {},
   "outputs": [],
   "source": [
    "sns.set()"
   ]
  },
  {
   "cell_type": "code",
   "execution_count": 103,
   "metadata": {},
   "outputs": [],
   "source": [
    "df = pd.read_csv(\"automation-protocol-ii.csv\")"
   ]
  },
  {
   "cell_type": "code",
   "execution_count": 104,
   "metadata": {},
   "outputs": [
    {
     "data": {
      "text/html": [
       "<div>\n",
       "<style scoped>\n",
       "    .dataframe tbody tr th:only-of-type {\n",
       "        vertical-align: middle;\n",
       "    }\n",
       "\n",
       "    .dataframe tbody tr th {\n",
       "        vertical-align: top;\n",
       "    }\n",
       "\n",
       "    .dataframe thead th {\n",
       "        text-align: right;\n",
       "    }\n",
       "</style>\n",
       "<table border=\"1\" class=\"dataframe\">\n",
       "  <thead>\n",
       "    <tr style=\"text-align: right;\">\n",
       "      <th></th>\n",
       "      <th>id</th>\n",
       "      <th>instanceid</th>\n",
       "      <th>type</th>\n",
       "      <th>lastseen</th>\n",
       "      <th>onoff</th>\n",
       "      <th>color</th>\n",
       "      <th>dimmer</th>\n",
       "      <th>protocoltime</th>\n",
       "    </tr>\n",
       "  </thead>\n",
       "  <tbody>\n",
       "    <tr>\n",
       "      <th>0</th>\n",
       "      <td>270</td>\n",
       "      <td>65537</td>\n",
       "      <td>2</td>\n",
       "      <td>1605867202</td>\n",
       "      <td>1</td>\n",
       "      <td>efd275</td>\n",
       "      <td>51</td>\n",
       "      <td>2020-11-20 22:58:04</td>\n",
       "    </tr>\n",
       "    <tr>\n",
       "      <th>1</th>\n",
       "      <td>271</td>\n",
       "      <td>65538</td>\n",
       "      <td>2</td>\n",
       "      <td>1605868423</td>\n",
       "      <td>1</td>\n",
       "      <td>efd275</td>\n",
       "      <td>48</td>\n",
       "      <td>2020-11-20 22:58:04</td>\n",
       "    </tr>\n",
       "    <tr>\n",
       "      <th>2</th>\n",
       "      <td>272</td>\n",
       "      <td>65540</td>\n",
       "      <td>2</td>\n",
       "      <td>1605882795</td>\n",
       "      <td>0</td>\n",
       "      <td>efd275</td>\n",
       "      <td>100</td>\n",
       "      <td>2020-11-20 22:58:04</td>\n",
       "    </tr>\n",
       "    <tr>\n",
       "      <th>3</th>\n",
       "      <td>273</td>\n",
       "      <td>65545</td>\n",
       "      <td>2</td>\n",
       "      <td>1605831076</td>\n",
       "      <td>0</td>\n",
       "      <td>efd275</td>\n",
       "      <td>50</td>\n",
       "      <td>2020-11-20 22:58:04</td>\n",
       "    </tr>\n",
       "    <tr>\n",
       "      <th>4</th>\n",
       "      <td>274</td>\n",
       "      <td>65546</td>\n",
       "      <td>2</td>\n",
       "      <td>1605892658</td>\n",
       "      <td>0</td>\n",
       "      <td>f1e0b5</td>\n",
       "      <td>50</td>\n",
       "      <td>2020-11-20 22:58:04</td>\n",
       "    </tr>\n",
       "  </tbody>\n",
       "</table>\n",
       "</div>"
      ],
      "text/plain": [
       "    id  instanceid  type    lastseen  onoff   color  dimmer  \\\n",
       "0  270       65537     2  1605867202      1  efd275      51   \n",
       "1  271       65538     2  1605868423      1  efd275      48   \n",
       "2  272       65540     2  1605882795      0  efd275     100   \n",
       "3  273       65545     2  1605831076      0  efd275      50   \n",
       "4  274       65546     2  1605892658      0  f1e0b5      50   \n",
       "\n",
       "          protocoltime  \n",
       "0  2020-11-20 22:58:04  \n",
       "1  2020-11-20 22:58:04  \n",
       "2  2020-11-20 22:58:04  \n",
       "3  2020-11-20 22:58:04  \n",
       "4  2020-11-20 22:58:04  "
      ]
     },
     "execution_count": 104,
     "metadata": {},
     "output_type": "execute_result"
    }
   ],
   "source": [
    "df.columns = df.columns.str.lower()\n",
    "df.head()"
   ]
  },
  {
   "cell_type": "markdown",
   "metadata": {},
   "source": [
    "## Data cleaning"
   ]
  },
  {
   "cell_type": "code",
   "execution_count": 105,
   "metadata": {},
   "outputs": [
    {
     "data": {
      "text/html": [
       "<div>\n",
       "<style scoped>\n",
       "    .dataframe tbody tr th:only-of-type {\n",
       "        vertical-align: middle;\n",
       "    }\n",
       "\n",
       "    .dataframe tbody tr th {\n",
       "        vertical-align: top;\n",
       "    }\n",
       "\n",
       "    .dataframe thead th {\n",
       "        text-align: right;\n",
       "    }\n",
       "</style>\n",
       "<table border=\"1\" class=\"dataframe\">\n",
       "  <thead>\n",
       "    <tr style=\"text-align: right;\">\n",
       "      <th></th>\n",
       "      <th>id</th>\n",
       "      <th>instanceid</th>\n",
       "      <th>type</th>\n",
       "      <th>lastseen</th>\n",
       "      <th>onoff</th>\n",
       "      <th>color</th>\n",
       "      <th>dimmer</th>\n",
       "      <th>protocoltime</th>\n",
       "    </tr>\n",
       "  </thead>\n",
       "  <tbody>\n",
       "    <tr>\n",
       "      <th>0</th>\n",
       "      <td>270</td>\n",
       "      <td>65537</td>\n",
       "      <td>2</td>\n",
       "      <td>1605867202</td>\n",
       "      <td>1</td>\n",
       "      <td>efd275</td>\n",
       "      <td>51</td>\n",
       "      <td>2020-11-20 22:58:04</td>\n",
       "    </tr>\n",
       "    <tr>\n",
       "      <th>1</th>\n",
       "      <td>271</td>\n",
       "      <td>65538</td>\n",
       "      <td>2</td>\n",
       "      <td>1605868423</td>\n",
       "      <td>1</td>\n",
       "      <td>efd275</td>\n",
       "      <td>48</td>\n",
       "      <td>2020-11-20 22:58:04</td>\n",
       "    </tr>\n",
       "    <tr>\n",
       "      <th>2</th>\n",
       "      <td>272</td>\n",
       "      <td>65540</td>\n",
       "      <td>2</td>\n",
       "      <td>1605882795</td>\n",
       "      <td>0</td>\n",
       "      <td>efd275</td>\n",
       "      <td>100</td>\n",
       "      <td>2020-11-20 22:58:04</td>\n",
       "    </tr>\n",
       "    <tr>\n",
       "      <th>3</th>\n",
       "      <td>273</td>\n",
       "      <td>65545</td>\n",
       "      <td>2</td>\n",
       "      <td>1605831076</td>\n",
       "      <td>0</td>\n",
       "      <td>efd275</td>\n",
       "      <td>50</td>\n",
       "      <td>2020-11-20 22:58:04</td>\n",
       "    </tr>\n",
       "    <tr>\n",
       "      <th>4</th>\n",
       "      <td>274</td>\n",
       "      <td>65546</td>\n",
       "      <td>2</td>\n",
       "      <td>1605892658</td>\n",
       "      <td>0</td>\n",
       "      <td>f1e0b5</td>\n",
       "      <td>50</td>\n",
       "      <td>2020-11-20 22:58:04</td>\n",
       "    </tr>\n",
       "  </tbody>\n",
       "</table>\n",
       "</div>"
      ],
      "text/plain": [
       "    id  instanceid  type    lastseen  onoff   color  dimmer  \\\n",
       "0  270       65537     2  1605867202      1  efd275      51   \n",
       "1  271       65538     2  1605868423      1  efd275      48   \n",
       "2  272       65540     2  1605882795      0  efd275     100   \n",
       "3  273       65545     2  1605831076      0  efd275      50   \n",
       "4  274       65546     2  1605892658      0  f1e0b5      50   \n",
       "\n",
       "         protocoltime  \n",
       "0 2020-11-20 22:58:04  \n",
       "1 2020-11-20 22:58:04  \n",
       "2 2020-11-20 22:58:04  \n",
       "3 2020-11-20 22:58:04  \n",
       "4 2020-11-20 22:58:04  "
      ]
     },
     "execution_count": 105,
     "metadata": {},
     "output_type": "execute_result"
    }
   ],
   "source": [
    "df.protocoltime = pd.to_datetime(df.protocoltime)\n",
    "df.head()"
   ]
  },
  {
   "cell_type": "code",
   "execution_count": 106,
   "metadata": {},
   "outputs": [
    {
     "data": {
      "text/html": [
       "<div>\n",
       "<style scoped>\n",
       "    .dataframe tbody tr th:only-of-type {\n",
       "        vertical-align: middle;\n",
       "    }\n",
       "\n",
       "    .dataframe tbody tr th {\n",
       "        vertical-align: top;\n",
       "    }\n",
       "\n",
       "    .dataframe thead th {\n",
       "        text-align: right;\n",
       "    }\n",
       "</style>\n",
       "<table border=\"1\" class=\"dataframe\">\n",
       "  <thead>\n",
       "    <tr style=\"text-align: right;\">\n",
       "      <th></th>\n",
       "      <th>id</th>\n",
       "      <th>instanceid</th>\n",
       "      <th>type</th>\n",
       "      <th>lastseen</th>\n",
       "      <th>onoff</th>\n",
       "      <th>color</th>\n",
       "      <th>dimmer</th>\n",
       "      <th>protocoltime</th>\n",
       "    </tr>\n",
       "  </thead>\n",
       "  <tbody>\n",
       "    <tr>\n",
       "      <th>0</th>\n",
       "      <td>270</td>\n",
       "      <td>65537</td>\n",
       "      <td>2</td>\n",
       "      <td>1605867202</td>\n",
       "      <td>1</td>\n",
       "      <td>efd275</td>\n",
       "      <td>51</td>\n",
       "      <td>2020-11-20 23:00:00</td>\n",
       "    </tr>\n",
       "    <tr>\n",
       "      <th>1</th>\n",
       "      <td>271</td>\n",
       "      <td>65538</td>\n",
       "      <td>2</td>\n",
       "      <td>1605868423</td>\n",
       "      <td>1</td>\n",
       "      <td>efd275</td>\n",
       "      <td>48</td>\n",
       "      <td>2020-11-20 23:00:00</td>\n",
       "    </tr>\n",
       "    <tr>\n",
       "      <th>2</th>\n",
       "      <td>272</td>\n",
       "      <td>65540</td>\n",
       "      <td>2</td>\n",
       "      <td>1605882795</td>\n",
       "      <td>0</td>\n",
       "      <td>efd275</td>\n",
       "      <td>100</td>\n",
       "      <td>2020-11-20 23:00:00</td>\n",
       "    </tr>\n",
       "    <tr>\n",
       "      <th>3</th>\n",
       "      <td>273</td>\n",
       "      <td>65545</td>\n",
       "      <td>2</td>\n",
       "      <td>1605831076</td>\n",
       "      <td>0</td>\n",
       "      <td>efd275</td>\n",
       "      <td>50</td>\n",
       "      <td>2020-11-20 23:00:00</td>\n",
       "    </tr>\n",
       "    <tr>\n",
       "      <th>4</th>\n",
       "      <td>274</td>\n",
       "      <td>65546</td>\n",
       "      <td>2</td>\n",
       "      <td>1605892658</td>\n",
       "      <td>0</td>\n",
       "      <td>f1e0b5</td>\n",
       "      <td>50</td>\n",
       "      <td>2020-11-20 23:00:00</td>\n",
       "    </tr>\n",
       "  </tbody>\n",
       "</table>\n",
       "</div>"
      ],
      "text/plain": [
       "    id  instanceid  type    lastseen  onoff   color  dimmer  \\\n",
       "0  270       65537     2  1605867202      1  efd275      51   \n",
       "1  271       65538     2  1605868423      1  efd275      48   \n",
       "2  272       65540     2  1605882795      0  efd275     100   \n",
       "3  273       65545     2  1605831076      0  efd275      50   \n",
       "4  274       65546     2  1605892658      0  f1e0b5      50   \n",
       "\n",
       "         protocoltime  \n",
       "0 2020-11-20 23:00:00  \n",
       "1 2020-11-20 23:00:00  \n",
       "2 2020-11-20 23:00:00  \n",
       "3 2020-11-20 23:00:00  \n",
       "4 2020-11-20 23:00:00  "
      ]
     },
     "execution_count": 106,
     "metadata": {},
     "output_type": "execute_result"
    }
   ],
   "source": [
    "df.protocoltime = df.protocoltime.round('15min')\n",
    "df.head()"
   ]
  },
  {
   "cell_type": "markdown",
   "metadata": {},
   "source": [
    "### Data enriching"
   ]
  },
  {
   "cell_type": "code",
   "execution_count": 107,
   "metadata": {},
   "outputs": [
    {
     "data": {
      "text/plain": [
       "array([65537, 65538, 65540, 65545, 65546, 65547, 65548, 65549, 65551,\n",
       "       65552, 65553, 65554, 65555, 65556, 65557])"
      ]
     },
     "execution_count": 107,
     "metadata": {},
     "output_type": "execute_result"
    }
   ],
   "source": [
    "devices = df.instanceid.unique()\n",
    "devices"
   ]
  },
  {
   "cell_type": "code",
   "execution_count": 108,
   "metadata": {
    "tags": []
   },
   "outputs": [
    {
     "name": "stdout",
     "output_type": "stream",
     "text": [
      "absolute_min_date=2020-11-20 23:00:00, absolute_max_date=2020-11-28 18:15:00\n"
     ]
    },
    {
     "name": "stderr",
     "output_type": "stream",
     "text": [
      "<ipython-input-108-6b8a5c65b397>:12: SettingWithCopyWarning: \n",
      "A value is trying to be set on a copy of a slice from a DataFrame.\n",
      "Try using .loc[row_indexer,col_indexer] = value instead\n",
      "\n",
      "See the caveats in the documentation: https://pandas.pydata.org/pandas-docs/stable/user_guide/indexing.html#returning-a-view-versus-a-copy\n",
      "  single_device[\"protocoltime\"] = pd.to_datetime(single_device[\"protocoltime\"]).apply(lambda x: x.replace(tzinfo=None))\n",
      "<ipython-input-108-6b8a5c65b397>:14: SettingWithCopyWarning: \n",
      "A value is trying to be set on a copy of a slice from a DataFrame\n",
      "\n",
      "See the caveats in the documentation: https://pandas.pydata.org/pandas-docs/stable/user_guide/indexing.html#returning-a-view-versus-a-copy\n",
      "  last_state[\"onoff\"] = 0\n",
      "<ipython-input-108-6b8a5c65b397>:12: SettingWithCopyWarning: \n",
      "A value is trying to be set on a copy of a slice from a DataFrame.\n",
      "Try using .loc[row_indexer,col_indexer] = value instead\n",
      "\n",
      "See the caveats in the documentation: https://pandas.pydata.org/pandas-docs/stable/user_guide/indexing.html#returning-a-view-versus-a-copy\n",
      "  single_device[\"protocoltime\"] = pd.to_datetime(single_device[\"protocoltime\"]).apply(lambda x: x.replace(tzinfo=None))\n",
      "<ipython-input-108-6b8a5c65b397>:14: SettingWithCopyWarning: \n",
      "A value is trying to be set on a copy of a slice from a DataFrame\n",
      "\n",
      "See the caveats in the documentation: https://pandas.pydata.org/pandas-docs/stable/user_guide/indexing.html#returning-a-view-versus-a-copy\n",
      "  last_state[\"onoff\"] = 0\n",
      "<ipython-input-108-6b8a5c65b397>:12: SettingWithCopyWarning: \n",
      "A value is trying to be set on a copy of a slice from a DataFrame.\n",
      "Try using .loc[row_indexer,col_indexer] = value instead\n",
      "\n",
      "See the caveats in the documentation: https://pandas.pydata.org/pandas-docs/stable/user_guide/indexing.html#returning-a-view-versus-a-copy\n",
      "  single_device[\"protocoltime\"] = pd.to_datetime(single_device[\"protocoltime\"]).apply(lambda x: x.replace(tzinfo=None))\n",
      "<ipython-input-108-6b8a5c65b397>:14: SettingWithCopyWarning: \n",
      "A value is trying to be set on a copy of a slice from a DataFrame\n",
      "\n",
      "See the caveats in the documentation: https://pandas.pydata.org/pandas-docs/stable/user_guide/indexing.html#returning-a-view-versus-a-copy\n",
      "  last_state[\"onoff\"] = 0\n",
      "<ipython-input-108-6b8a5c65b397>:12: SettingWithCopyWarning: \n",
      "A value is trying to be set on a copy of a slice from a DataFrame.\n",
      "Try using .loc[row_indexer,col_indexer] = value instead\n",
      "\n",
      "See the caveats in the documentation: https://pandas.pydata.org/pandas-docs/stable/user_guide/indexing.html#returning-a-view-versus-a-copy\n",
      "  single_device[\"protocoltime\"] = pd.to_datetime(single_device[\"protocoltime\"]).apply(lambda x: x.replace(tzinfo=None))\n",
      "<ipython-input-108-6b8a5c65b397>:14: SettingWithCopyWarning: \n",
      "A value is trying to be set on a copy of a slice from a DataFrame\n",
      "\n",
      "See the caveats in the documentation: https://pandas.pydata.org/pandas-docs/stable/user_guide/indexing.html#returning-a-view-versus-a-copy\n",
      "  last_state[\"onoff\"] = 0\n",
      "<ipython-input-108-6b8a5c65b397>:12: SettingWithCopyWarning: \n",
      "A value is trying to be set on a copy of a slice from a DataFrame.\n",
      "Try using .loc[row_indexer,col_indexer] = value instead\n",
      "\n",
      "See the caveats in the documentation: https://pandas.pydata.org/pandas-docs/stable/user_guide/indexing.html#returning-a-view-versus-a-copy\n",
      "  single_device[\"protocoltime\"] = pd.to_datetime(single_device[\"protocoltime\"]).apply(lambda x: x.replace(tzinfo=None))\n",
      "<ipython-input-108-6b8a5c65b397>:14: SettingWithCopyWarning: \n",
      "A value is trying to be set on a copy of a slice from a DataFrame\n",
      "\n",
      "See the caveats in the documentation: https://pandas.pydata.org/pandas-docs/stable/user_guide/indexing.html#returning-a-view-versus-a-copy\n",
      "  last_state[\"onoff\"] = 0\n",
      "<ipython-input-108-6b8a5c65b397>:12: SettingWithCopyWarning: \n",
      "A value is trying to be set on a copy of a slice from a DataFrame.\n",
      "Try using .loc[row_indexer,col_indexer] = value instead\n",
      "\n",
      "See the caveats in the documentation: https://pandas.pydata.org/pandas-docs/stable/user_guide/indexing.html#returning-a-view-versus-a-copy\n",
      "  single_device[\"protocoltime\"] = pd.to_datetime(single_device[\"protocoltime\"]).apply(lambda x: x.replace(tzinfo=None))\n",
      "<ipython-input-108-6b8a5c65b397>:14: SettingWithCopyWarning: \n",
      "A value is trying to be set on a copy of a slice from a DataFrame\n",
      "\n",
      "See the caveats in the documentation: https://pandas.pydata.org/pandas-docs/stable/user_guide/indexing.html#returning-a-view-versus-a-copy\n",
      "  last_state[\"onoff\"] = 0\n",
      "<ipython-input-108-6b8a5c65b397>:12: SettingWithCopyWarning: \n",
      "A value is trying to be set on a copy of a slice from a DataFrame.\n",
      "Try using .loc[row_indexer,col_indexer] = value instead\n",
      "\n",
      "See the caveats in the documentation: https://pandas.pydata.org/pandas-docs/stable/user_guide/indexing.html#returning-a-view-versus-a-copy\n",
      "  single_device[\"protocoltime\"] = pd.to_datetime(single_device[\"protocoltime\"]).apply(lambda x: x.replace(tzinfo=None))\n",
      "<ipython-input-108-6b8a5c65b397>:14: SettingWithCopyWarning: \n",
      "A value is trying to be set on a copy of a slice from a DataFrame\n",
      "\n",
      "See the caveats in the documentation: https://pandas.pydata.org/pandas-docs/stable/user_guide/indexing.html#returning-a-view-versus-a-copy\n",
      "  last_state[\"onoff\"] = 0\n",
      "<ipython-input-108-6b8a5c65b397>:12: SettingWithCopyWarning: \n",
      "A value is trying to be set on a copy of a slice from a DataFrame.\n",
      "Try using .loc[row_indexer,col_indexer] = value instead\n",
      "\n",
      "See the caveats in the documentation: https://pandas.pydata.org/pandas-docs/stable/user_guide/indexing.html#returning-a-view-versus-a-copy\n",
      "  single_device[\"protocoltime\"] = pd.to_datetime(single_device[\"protocoltime\"]).apply(lambda x: x.replace(tzinfo=None))\n",
      "<ipython-input-108-6b8a5c65b397>:14: SettingWithCopyWarning: \n",
      "A value is trying to be set on a copy of a slice from a DataFrame\n",
      "\n",
      "See the caveats in the documentation: https://pandas.pydata.org/pandas-docs/stable/user_guide/indexing.html#returning-a-view-versus-a-copy\n",
      "  last_state[\"onoff\"] = 0\n",
      "<ipython-input-108-6b8a5c65b397>:12: SettingWithCopyWarning: \n",
      "A value is trying to be set on a copy of a slice from a DataFrame.\n",
      "Try using .loc[row_indexer,col_indexer] = value instead\n",
      "\n",
      "See the caveats in the documentation: https://pandas.pydata.org/pandas-docs/stable/user_guide/indexing.html#returning-a-view-versus-a-copy\n",
      "  single_device[\"protocoltime\"] = pd.to_datetime(single_device[\"protocoltime\"]).apply(lambda x: x.replace(tzinfo=None))\n",
      "<ipython-input-108-6b8a5c65b397>:14: SettingWithCopyWarning: \n",
      "A value is trying to be set on a copy of a slice from a DataFrame\n",
      "\n",
      "See the caveats in the documentation: https://pandas.pydata.org/pandas-docs/stable/user_guide/indexing.html#returning-a-view-versus-a-copy\n",
      "  last_state[\"onoff\"] = 0\n",
      "<ipython-input-108-6b8a5c65b397>:12: SettingWithCopyWarning: \n",
      "A value is trying to be set on a copy of a slice from a DataFrame.\n",
      "Try using .loc[row_indexer,col_indexer] = value instead\n",
      "\n",
      "See the caveats in the documentation: https://pandas.pydata.org/pandas-docs/stable/user_guide/indexing.html#returning-a-view-versus-a-copy\n",
      "  single_device[\"protocoltime\"] = pd.to_datetime(single_device[\"protocoltime\"]).apply(lambda x: x.replace(tzinfo=None))\n",
      "<ipython-input-108-6b8a5c65b397>:14: SettingWithCopyWarning: \n",
      "A value is trying to be set on a copy of a slice from a DataFrame\n",
      "\n",
      "See the caveats in the documentation: https://pandas.pydata.org/pandas-docs/stable/user_guide/indexing.html#returning-a-view-versus-a-copy\n",
      "  last_state[\"onoff\"] = 0\n",
      "<ipython-input-108-6b8a5c65b397>:12: SettingWithCopyWarning: \n",
      "A value is trying to be set on a copy of a slice from a DataFrame.\n",
      "Try using .loc[row_indexer,col_indexer] = value instead\n",
      "\n",
      "See the caveats in the documentation: https://pandas.pydata.org/pandas-docs/stable/user_guide/indexing.html#returning-a-view-versus-a-copy\n",
      "  single_device[\"protocoltime\"] = pd.to_datetime(single_device[\"protocoltime\"]).apply(lambda x: x.replace(tzinfo=None))\n",
      "<ipython-input-108-6b8a5c65b397>:14: SettingWithCopyWarning: \n",
      "A value is trying to be set on a copy of a slice from a DataFrame\n",
      "\n",
      "See the caveats in the documentation: https://pandas.pydata.org/pandas-docs/stable/user_guide/indexing.html#returning-a-view-versus-a-copy\n",
      "  last_state[\"onoff\"] = 0\n",
      "<ipython-input-108-6b8a5c65b397>:12: SettingWithCopyWarning: \n",
      "A value is trying to be set on a copy of a slice from a DataFrame.\n",
      "Try using .loc[row_indexer,col_indexer] = value instead\n",
      "\n",
      "See the caveats in the documentation: https://pandas.pydata.org/pandas-docs/stable/user_guide/indexing.html#returning-a-view-versus-a-copy\n",
      "  single_device[\"protocoltime\"] = pd.to_datetime(single_device[\"protocoltime\"]).apply(lambda x: x.replace(tzinfo=None))\n",
      "<ipython-input-108-6b8a5c65b397>:14: SettingWithCopyWarning: \n",
      "A value is trying to be set on a copy of a slice from a DataFrame\n",
      "\n",
      "See the caveats in the documentation: https://pandas.pydata.org/pandas-docs/stable/user_guide/indexing.html#returning-a-view-versus-a-copy\n",
      "  last_state[\"onoff\"] = 0\n",
      "<ipython-input-108-6b8a5c65b397>:12: SettingWithCopyWarning: \n",
      "A value is trying to be set on a copy of a slice from a DataFrame.\n",
      "Try using .loc[row_indexer,col_indexer] = value instead\n",
      "\n",
      "See the caveats in the documentation: https://pandas.pydata.org/pandas-docs/stable/user_guide/indexing.html#returning-a-view-versus-a-copy\n",
      "  single_device[\"protocoltime\"] = pd.to_datetime(single_device[\"protocoltime\"]).apply(lambda x: x.replace(tzinfo=None))\n",
      "<ipython-input-108-6b8a5c65b397>:14: SettingWithCopyWarning: \n",
      "A value is trying to be set on a copy of a slice from a DataFrame\n",
      "\n",
      "See the caveats in the documentation: https://pandas.pydata.org/pandas-docs/stable/user_guide/indexing.html#returning-a-view-versus-a-copy\n",
      "  last_state[\"onoff\"] = 0\n"
     ]
    },
    {
     "name": "stderr",
     "output_type": "stream",
     "text": [
      "<ipython-input-108-6b8a5c65b397>:12: SettingWithCopyWarning: \n",
      "A value is trying to be set on a copy of a slice from a DataFrame.\n",
      "Try using .loc[row_indexer,col_indexer] = value instead\n",
      "\n",
      "See the caveats in the documentation: https://pandas.pydata.org/pandas-docs/stable/user_guide/indexing.html#returning-a-view-versus-a-copy\n",
      "  single_device[\"protocoltime\"] = pd.to_datetime(single_device[\"protocoltime\"]).apply(lambda x: x.replace(tzinfo=None))\n",
      "<ipython-input-108-6b8a5c65b397>:14: SettingWithCopyWarning: \n",
      "A value is trying to be set on a copy of a slice from a DataFrame\n",
      "\n",
      "See the caveats in the documentation: https://pandas.pydata.org/pandas-docs/stable/user_guide/indexing.html#returning-a-view-versus-a-copy\n",
      "  last_state[\"onoff\"] = 0\n",
      "<ipython-input-108-6b8a5c65b397>:12: SettingWithCopyWarning: \n",
      "A value is trying to be set on a copy of a slice from a DataFrame.\n",
      "Try using .loc[row_indexer,col_indexer] = value instead\n",
      "\n",
      "See the caveats in the documentation: https://pandas.pydata.org/pandas-docs/stable/user_guide/indexing.html#returning-a-view-versus-a-copy\n",
      "  single_device[\"protocoltime\"] = pd.to_datetime(single_device[\"protocoltime\"]).apply(lambda x: x.replace(tzinfo=None))\n",
      "<ipython-input-108-6b8a5c65b397>:14: SettingWithCopyWarning: \n",
      "A value is trying to be set on a copy of a slice from a DataFrame\n",
      "\n",
      "See the caveats in the documentation: https://pandas.pydata.org/pandas-docs/stable/user_guide/indexing.html#returning-a-view-versus-a-copy\n",
      "  last_state[\"onoff\"] = 0\n"
     ]
    },
    {
     "data": {
      "text/html": [
       "<div>\n",
       "<style scoped>\n",
       "    .dataframe tbody tr th:only-of-type {\n",
       "        vertical-align: middle;\n",
       "    }\n",
       "\n",
       "    .dataframe tbody tr th {\n",
       "        vertical-align: top;\n",
       "    }\n",
       "\n",
       "    .dataframe thead th {\n",
       "        text-align: right;\n",
       "    }\n",
       "</style>\n",
       "<table border=\"1\" class=\"dataframe\">\n",
       "  <thead>\n",
       "    <tr style=\"text-align: right;\">\n",
       "      <th></th>\n",
       "      <th>id</th>\n",
       "      <th>instanceid</th>\n",
       "      <th>type</th>\n",
       "      <th>lastseen</th>\n",
       "      <th>onoff</th>\n",
       "      <th>color</th>\n",
       "      <th>dimmer</th>\n",
       "      <th>protocoltime</th>\n",
       "    </tr>\n",
       "  </thead>\n",
       "  <tbody>\n",
       "    <tr>\n",
       "      <th>0</th>\n",
       "      <td>270</td>\n",
       "      <td>65537</td>\n",
       "      <td>2</td>\n",
       "      <td>1605867202</td>\n",
       "      <td>1</td>\n",
       "      <td>efd275</td>\n",
       "      <td>51</td>\n",
       "      <td>2020-11-20 23:00:00</td>\n",
       "    </tr>\n",
       "    <tr>\n",
       "      <th>1</th>\n",
       "      <td>270</td>\n",
       "      <td>65537</td>\n",
       "      <td>2</td>\n",
       "      <td>1605867202</td>\n",
       "      <td>1</td>\n",
       "      <td>efd275</td>\n",
       "      <td>51</td>\n",
       "      <td>2020-11-20 23:15:00</td>\n",
       "    </tr>\n",
       "    <tr>\n",
       "      <th>2</th>\n",
       "      <td>285</td>\n",
       "      <td>65537</td>\n",
       "      <td>2</td>\n",
       "      <td>1605867202</td>\n",
       "      <td>1</td>\n",
       "      <td>efd275</td>\n",
       "      <td>51</td>\n",
       "      <td>2020-11-20 23:30:00</td>\n",
       "    </tr>\n",
       "    <tr>\n",
       "      <th>3</th>\n",
       "      <td>285</td>\n",
       "      <td>65537</td>\n",
       "      <td>2</td>\n",
       "      <td>1605867202</td>\n",
       "      <td>1</td>\n",
       "      <td>efd275</td>\n",
       "      <td>51</td>\n",
       "      <td>2020-11-20 23:45:00</td>\n",
       "    </tr>\n",
       "    <tr>\n",
       "      <th>4</th>\n",
       "      <td>304</td>\n",
       "      <td>65537</td>\n",
       "      <td>2</td>\n",
       "      <td>1605867202</td>\n",
       "      <td>0</td>\n",
       "      <td>f1e0b5</td>\n",
       "      <td>51</td>\n",
       "      <td>2020-11-21 00:00:00</td>\n",
       "    </tr>\n",
       "  </tbody>\n",
       "</table>\n",
       "</div>"
      ],
      "text/plain": [
       "    id  instanceid  type    lastseen  onoff   color  dimmer  \\\n",
       "0  270       65537     2  1605867202      1  efd275      51   \n",
       "1  270       65537     2  1605867202      1  efd275      51   \n",
       "2  285       65537     2  1605867202      1  efd275      51   \n",
       "3  285       65537     2  1605867202      1  efd275      51   \n",
       "4  304       65537     2  1605867202      0  f1e0b5      51   \n",
       "\n",
       "         protocoltime  \n",
       "0 2020-11-20 23:00:00  \n",
       "1 2020-11-20 23:15:00  \n",
       "2 2020-11-20 23:30:00  \n",
       "3 2020-11-20 23:45:00  \n",
       "4 2020-11-21 00:00:00  "
      ]
     },
     "execution_count": 108,
     "metadata": {},
     "output_type": "execute_result"
    }
   ],
   "source": [
    "absolute_min_date = df.protocoltime.min(axis=0)\n",
    "absolute_max_date = df.protocoltime.max(axis=0)\n",
    "print(\"absolute_min_date=%s, absolute_max_date=%s\" % (absolute_min_date, absolute_max_date))\n",
    "\n",
    "complete_time_data = pd.date_range(absolute_min_date, absolute_max_date, freq=\"15min\")\n",
    "complete_time_data = complete_time_data.tz_localize(None)\n",
    "\n",
    "complete_arr = []\n",
    "\n",
    "for device in devices:\n",
    "    single_device = df[df[\"instanceid\"] == device]\n",
    "    single_device[\"protocoltime\"] = pd.to_datetime(single_device[\"protocoltime\"]).apply(lambda x: x.replace(tzinfo=None))\n",
    "    last_state = single_device.iloc[0]\n",
    "    last_state[\"onoff\"] = 0\n",
    "    for time_data in complete_time_data.values:\n",
    "        if time_data in single_device.protocoltime.values:\n",
    "            # TODO edge case for multiple events in one time slot\n",
    "            device_row = single_device[single_device[\"protocoltime\"] == time_data]\n",
    "            complete_arr.append(device_row.values[0])\n",
    "            last_state = device_row.iloc[0]\n",
    "        else:\n",
    "            current_state = last_state.copy()\n",
    "            current_state[\"protocoltime\"] = time_data\n",
    "            complete_arr.append(current_state.values)\n",
    "\n",
    "df = pd.DataFrame(complete_arr, columns=df.columns)\n",
    "df = df.sort_values(by=[\"instanceid\", \"protocoltime\"])\n",
    "df.head()"
   ]
  },
  {
   "cell_type": "code",
   "execution_count": 109,
   "metadata": {},
   "outputs": [
    {
     "data": {
      "text/plain": [
       "11250"
      ]
     },
     "execution_count": 109,
     "metadata": {},
     "output_type": "execute_result"
    }
   ],
   "source": [
    "len(df)"
   ]
  },
  {
   "cell_type": "code",
   "execution_count": 110,
   "metadata": {},
   "outputs": [
    {
     "name": "stderr",
     "output_type": "stream",
     "text": [
      "<ipython-input-110-2a69a44ba421>:1: SettingWithCopyWarning: \n",
      "A value is trying to be set on a copy of a slice from a DataFrame\n",
      "\n",
      "See the caveats in the documentation: https://pandas.pydata.org/pandas-docs/stable/user_guide/indexing.html#returning-a-view-versus-a-copy\n",
      "  df.color[df.color == 0] = \"f1e0b5\"\n"
     ]
    }
   ],
   "source": [
    "df.color[df.color == 0] = \"f1e0b5\" "
   ]
  },
  {
   "cell_type": "code",
   "execution_count": 111,
   "metadata": {},
   "outputs": [
    {
     "name": "stderr",
     "output_type": "stream",
     "text": [
      "<ipython-input-111-a56c609ce058>:2: FutureWarning: Series.dt.weekofyear and Series.dt.week have been deprecated.  Please use Series.dt.isocalendar().week instead.\n",
      "  df[\"weekofyear\"] = df.protocoltime.dt.weekofyear\n"
     ]
    },
    {
     "data": {
      "text/html": [
       "<div>\n",
       "<style scoped>\n",
       "    .dataframe tbody tr th:only-of-type {\n",
       "        vertical-align: middle;\n",
       "    }\n",
       "\n",
       "    .dataframe tbody tr th {\n",
       "        vertical-align: top;\n",
       "    }\n",
       "\n",
       "    .dataframe thead th {\n",
       "        text-align: right;\n",
       "    }\n",
       "</style>\n",
       "<table border=\"1\" class=\"dataframe\">\n",
       "  <thead>\n",
       "    <tr style=\"text-align: right;\">\n",
       "      <th></th>\n",
       "      <th>id</th>\n",
       "      <th>instanceid</th>\n",
       "      <th>type</th>\n",
       "      <th>lastseen</th>\n",
       "      <th>onoff</th>\n",
       "      <th>color</th>\n",
       "      <th>dimmer</th>\n",
       "      <th>protocoltime</th>\n",
       "      <th>weekday</th>\n",
       "      <th>weekofyear</th>\n",
       "      <th>year</th>\n",
       "      <th>month</th>\n",
       "      <th>day</th>\n",
       "      <th>time</th>\n",
       "    </tr>\n",
       "  </thead>\n",
       "  <tbody>\n",
       "    <tr>\n",
       "      <th>0</th>\n",
       "      <td>270</td>\n",
       "      <td>65537</td>\n",
       "      <td>2</td>\n",
       "      <td>1605867202</td>\n",
       "      <td>1</td>\n",
       "      <td>efd275</td>\n",
       "      <td>51</td>\n",
       "      <td>2020-11-20 23:00:00</td>\n",
       "      <td>Friday</td>\n",
       "      <td>47</td>\n",
       "      <td>2020</td>\n",
       "      <td>11</td>\n",
       "      <td>20</td>\n",
       "      <td>23:00</td>\n",
       "    </tr>\n",
       "    <tr>\n",
       "      <th>1</th>\n",
       "      <td>270</td>\n",
       "      <td>65537</td>\n",
       "      <td>2</td>\n",
       "      <td>1605867202</td>\n",
       "      <td>1</td>\n",
       "      <td>efd275</td>\n",
       "      <td>51</td>\n",
       "      <td>2020-11-20 23:15:00</td>\n",
       "      <td>Friday</td>\n",
       "      <td>47</td>\n",
       "      <td>2020</td>\n",
       "      <td>11</td>\n",
       "      <td>20</td>\n",
       "      <td>23:15</td>\n",
       "    </tr>\n",
       "    <tr>\n",
       "      <th>2</th>\n",
       "      <td>285</td>\n",
       "      <td>65537</td>\n",
       "      <td>2</td>\n",
       "      <td>1605867202</td>\n",
       "      <td>1</td>\n",
       "      <td>efd275</td>\n",
       "      <td>51</td>\n",
       "      <td>2020-11-20 23:30:00</td>\n",
       "      <td>Friday</td>\n",
       "      <td>47</td>\n",
       "      <td>2020</td>\n",
       "      <td>11</td>\n",
       "      <td>20</td>\n",
       "      <td>23:30</td>\n",
       "    </tr>\n",
       "    <tr>\n",
       "      <th>3</th>\n",
       "      <td>285</td>\n",
       "      <td>65537</td>\n",
       "      <td>2</td>\n",
       "      <td>1605867202</td>\n",
       "      <td>1</td>\n",
       "      <td>efd275</td>\n",
       "      <td>51</td>\n",
       "      <td>2020-11-20 23:45:00</td>\n",
       "      <td>Friday</td>\n",
       "      <td>47</td>\n",
       "      <td>2020</td>\n",
       "      <td>11</td>\n",
       "      <td>20</td>\n",
       "      <td>23:45</td>\n",
       "    </tr>\n",
       "    <tr>\n",
       "      <th>4</th>\n",
       "      <td>304</td>\n",
       "      <td>65537</td>\n",
       "      <td>2</td>\n",
       "      <td>1605867202</td>\n",
       "      <td>0</td>\n",
       "      <td>f1e0b5</td>\n",
       "      <td>51</td>\n",
       "      <td>2020-11-21 00:00:00</td>\n",
       "      <td>Saturday</td>\n",
       "      <td>47</td>\n",
       "      <td>2020</td>\n",
       "      <td>11</td>\n",
       "      <td>21</td>\n",
       "      <td>00:00</td>\n",
       "    </tr>\n",
       "  </tbody>\n",
       "</table>\n",
       "</div>"
      ],
      "text/plain": [
       "    id  instanceid  type    lastseen  onoff   color  dimmer  \\\n",
       "0  270       65537     2  1605867202      1  efd275      51   \n",
       "1  270       65537     2  1605867202      1  efd275      51   \n",
       "2  285       65537     2  1605867202      1  efd275      51   \n",
       "3  285       65537     2  1605867202      1  efd275      51   \n",
       "4  304       65537     2  1605867202      0  f1e0b5      51   \n",
       "\n",
       "         protocoltime   weekday  weekofyear  year  month  day   time  \n",
       "0 2020-11-20 23:00:00    Friday          47  2020     11   20  23:00  \n",
       "1 2020-11-20 23:15:00    Friday          47  2020     11   20  23:15  \n",
       "2 2020-11-20 23:30:00    Friday          47  2020     11   20  23:30  \n",
       "3 2020-11-20 23:45:00    Friday          47  2020     11   20  23:45  \n",
       "4 2020-11-21 00:00:00  Saturday          47  2020     11   21  00:00  "
      ]
     },
     "execution_count": 111,
     "metadata": {},
     "output_type": "execute_result"
    }
   ],
   "source": [
    "df[\"weekday\"] = df.protocoltime.dt.day_name()\n",
    "df[\"weekofyear\"] = df.protocoltime.dt.weekofyear\n",
    "df[\"year\"] = df.protocoltime.dt.year\n",
    "df[\"month\"] = df.protocoltime.dt.month\n",
    "df[\"day\"] = df.protocoltime.dt.day\n",
    "df[\"time\"] = df.protocoltime.dt.strftime(\"%H:%M\")\n",
    "df.head()"
   ]
  },
  {
   "cell_type": "code",
   "execution_count": 112,
   "metadata": {},
   "outputs": [
    {
     "data": {
      "text/plain": [
       "Index(['id', 'instanceid', 'type', 'lastseen', 'onoff', 'color', 'dimmer',\n",
       "       'protocoltime', 'weekday', 'weekofyear', 'year', 'month', 'day',\n",
       "       'time'],\n",
       "      dtype='object')"
      ]
     },
     "execution_count": 112,
     "metadata": {},
     "output_type": "execute_result"
    }
   ],
   "source": [
    "df.columns"
   ]
  },
  {
   "cell_type": "code",
   "execution_count": 113,
   "metadata": {},
   "outputs": [
    {
     "data": {
      "text/plain": [
       "array(['efd275', 'f1e0b5', 'f5faf6', '0', 'f2eccf', 'ffe2c4'],\n",
       "      dtype=object)"
      ]
     },
     "execution_count": 113,
     "metadata": {},
     "output_type": "execute_result"
    }
   ],
   "source": [
    "df.color.unique()"
   ]
  },
  {
   "cell_type": "code",
   "execution_count": 114,
   "metadata": {},
   "outputs": [
    {
     "data": {
      "text/plain": [
       "f1e0b5    8326\n",
       "efd275    1338\n",
       "f5faf6    1094\n",
       "0          206\n",
       "ffe2c4     192\n",
       "f2eccf      94\n",
       "Name: color, dtype: int64"
      ]
     },
     "execution_count": 114,
     "metadata": {},
     "output_type": "execute_result"
    }
   ],
   "source": [
    "df.color.value_counts()"
   ]
  },
  {
   "cell_type": "code",
   "execution_count": 115,
   "metadata": {},
   "outputs": [
    {
     "data": {
      "text/html": [
       "<div>\n",
       "<style scoped>\n",
       "    .dataframe tbody tr th:only-of-type {\n",
       "        vertical-align: middle;\n",
       "    }\n",
       "\n",
       "    .dataframe tbody tr th {\n",
       "        vertical-align: top;\n",
       "    }\n",
       "\n",
       "    .dataframe thead th {\n",
       "        text-align: right;\n",
       "    }\n",
       "</style>\n",
       "<table border=\"1\" class=\"dataframe\">\n",
       "  <thead>\n",
       "    <tr style=\"text-align: right;\">\n",
       "      <th></th>\n",
       "      <th>instanceid</th>\n",
       "      <th>type</th>\n",
       "      <th>onoff</th>\n",
       "      <th>color</th>\n",
       "      <th>dimmer</th>\n",
       "      <th>weekday</th>\n",
       "      <th>weekofyear</th>\n",
       "      <th>year</th>\n",
       "      <th>month</th>\n",
       "      <th>day</th>\n",
       "      <th>time</th>\n",
       "    </tr>\n",
       "  </thead>\n",
       "  <tbody>\n",
       "    <tr>\n",
       "      <th>0</th>\n",
       "      <td>65537</td>\n",
       "      <td>2</td>\n",
       "      <td>1</td>\n",
       "      <td>efd275</td>\n",
       "      <td>51</td>\n",
       "      <td>Friday</td>\n",
       "      <td>47</td>\n",
       "      <td>2020</td>\n",
       "      <td>11</td>\n",
       "      <td>20</td>\n",
       "      <td>23:00</td>\n",
       "    </tr>\n",
       "    <tr>\n",
       "      <th>1</th>\n",
       "      <td>65537</td>\n",
       "      <td>2</td>\n",
       "      <td>1</td>\n",
       "      <td>efd275</td>\n",
       "      <td>51</td>\n",
       "      <td>Friday</td>\n",
       "      <td>47</td>\n",
       "      <td>2020</td>\n",
       "      <td>11</td>\n",
       "      <td>20</td>\n",
       "      <td>23:15</td>\n",
       "    </tr>\n",
       "    <tr>\n",
       "      <th>2</th>\n",
       "      <td>65537</td>\n",
       "      <td>2</td>\n",
       "      <td>1</td>\n",
       "      <td>efd275</td>\n",
       "      <td>51</td>\n",
       "      <td>Friday</td>\n",
       "      <td>47</td>\n",
       "      <td>2020</td>\n",
       "      <td>11</td>\n",
       "      <td>20</td>\n",
       "      <td>23:30</td>\n",
       "    </tr>\n",
       "    <tr>\n",
       "      <th>3</th>\n",
       "      <td>65537</td>\n",
       "      <td>2</td>\n",
       "      <td>1</td>\n",
       "      <td>efd275</td>\n",
       "      <td>51</td>\n",
       "      <td>Friday</td>\n",
       "      <td>47</td>\n",
       "      <td>2020</td>\n",
       "      <td>11</td>\n",
       "      <td>20</td>\n",
       "      <td>23:45</td>\n",
       "    </tr>\n",
       "    <tr>\n",
       "      <th>4</th>\n",
       "      <td>65537</td>\n",
       "      <td>2</td>\n",
       "      <td>0</td>\n",
       "      <td>f1e0b5</td>\n",
       "      <td>51</td>\n",
       "      <td>Saturday</td>\n",
       "      <td>47</td>\n",
       "      <td>2020</td>\n",
       "      <td>11</td>\n",
       "      <td>21</td>\n",
       "      <td>00:00</td>\n",
       "    </tr>\n",
       "  </tbody>\n",
       "</table>\n",
       "</div>"
      ],
      "text/plain": [
       "   instanceid  type  onoff   color  dimmer   weekday  weekofyear  year  month  \\\n",
       "0       65537     2      1  efd275      51    Friday          47  2020     11   \n",
       "1       65537     2      1  efd275      51    Friday          47  2020     11   \n",
       "2       65537     2      1  efd275      51    Friday          47  2020     11   \n",
       "3       65537     2      1  efd275      51    Friday          47  2020     11   \n",
       "4       65537     2      0  f1e0b5      51  Saturday          47  2020     11   \n",
       "\n",
       "   day   time  \n",
       "0   20  23:00  \n",
       "1   20  23:15  \n",
       "2   20  23:30  \n",
       "3   20  23:45  \n",
       "4   21  00:00  "
      ]
     },
     "execution_count": 115,
     "metadata": {},
     "output_type": "execute_result"
    }
   ],
   "source": [
    "if \"id\" in df.columns:\n",
    "    del df[\"id\"]\n",
    "if \"lastseen\" in df.columns:\n",
    "    del df[\"lastseen\"]\n",
    "if \"protocoltime\" in df.columns:\n",
    "    del df[\"protocoltime\"]\n",
    "df.head()"
   ]
  },
  {
   "cell_type": "markdown",
   "metadata": {},
   "source": [
    "## Data exploration"
   ]
  },
  {
   "cell_type": "code",
   "execution_count": 116,
   "metadata": {},
   "outputs": [],
   "source": [
    "df.to_csv(\"parsed-data.csv\", index=False)"
   ]
  },
  {
   "cell_type": "code",
   "execution_count": 117,
   "metadata": {},
   "outputs": [
    {
     "data": {
      "text/html": [
       "<div>\n",
       "<style scoped>\n",
       "    .dataframe tbody tr th:only-of-type {\n",
       "        vertical-align: middle;\n",
       "    }\n",
       "\n",
       "    .dataframe tbody tr th {\n",
       "        vertical-align: top;\n",
       "    }\n",
       "\n",
       "    .dataframe thead th {\n",
       "        text-align: right;\n",
       "    }\n",
       "</style>\n",
       "<table border=\"1\" class=\"dataframe\">\n",
       "  <thead>\n",
       "    <tr style=\"text-align: right;\">\n",
       "      <th></th>\n",
       "      <th>instanceid</th>\n",
       "      <th>type</th>\n",
       "      <th>onoff</th>\n",
       "      <th>dimmer</th>\n",
       "      <th>weekofyear</th>\n",
       "      <th>year</th>\n",
       "      <th>month</th>\n",
       "      <th>day</th>\n",
       "    </tr>\n",
       "  </thead>\n",
       "  <tbody>\n",
       "    <tr>\n",
       "      <th>count</th>\n",
       "      <td>11250.000000</td>\n",
       "      <td>11250.0</td>\n",
       "      <td>11250.000000</td>\n",
       "      <td>11250.000000</td>\n",
       "      <td>11250.000000</td>\n",
       "      <td>11250.0</td>\n",
       "      <td>11250.0</td>\n",
       "      <td>11250.000000</td>\n",
       "    </tr>\n",
       "    <tr>\n",
       "      <th>mean</th>\n",
       "      <td>65548.533333</td>\n",
       "      <td>2.0</td>\n",
       "      <td>0.349956</td>\n",
       "      <td>80.741422</td>\n",
       "      <td>47.738667</td>\n",
       "      <td>2020.0</td>\n",
       "      <td>11.0</td>\n",
       "      <td>24.373333</td>\n",
       "    </tr>\n",
       "    <tr>\n",
       "      <th>std</th>\n",
       "      <td>6.195614</td>\n",
       "      <td>0.0</td>\n",
       "      <td>0.476977</td>\n",
       "      <td>26.302173</td>\n",
       "      <td>0.439381</td>\n",
       "      <td>0.0</td>\n",
       "      <td>0.0</td>\n",
       "      <td>2.260327</td>\n",
       "    </tr>\n",
       "    <tr>\n",
       "      <th>min</th>\n",
       "      <td>65537.000000</td>\n",
       "      <td>2.0</td>\n",
       "      <td>0.000000</td>\n",
       "      <td>8.000000</td>\n",
       "      <td>47.000000</td>\n",
       "      <td>2020.0</td>\n",
       "      <td>11.0</td>\n",
       "      <td>20.000000</td>\n",
       "    </tr>\n",
       "    <tr>\n",
       "      <th>25%</th>\n",
       "      <td>65545.000000</td>\n",
       "      <td>2.0</td>\n",
       "      <td>0.000000</td>\n",
       "      <td>50.000000</td>\n",
       "      <td>47.000000</td>\n",
       "      <td>2020.0</td>\n",
       "      <td>11.0</td>\n",
       "      <td>22.000000</td>\n",
       "    </tr>\n",
       "    <tr>\n",
       "      <th>50%</th>\n",
       "      <td>65549.000000</td>\n",
       "      <td>2.0</td>\n",
       "      <td>0.000000</td>\n",
       "      <td>100.000000</td>\n",
       "      <td>48.000000</td>\n",
       "      <td>2020.0</td>\n",
       "      <td>11.0</td>\n",
       "      <td>24.000000</td>\n",
       "    </tr>\n",
       "    <tr>\n",
       "      <th>75%</th>\n",
       "      <td>65554.000000</td>\n",
       "      <td>2.0</td>\n",
       "      <td>1.000000</td>\n",
       "      <td>100.000000</td>\n",
       "      <td>48.000000</td>\n",
       "      <td>2020.0</td>\n",
       "      <td>11.0</td>\n",
       "      <td>26.000000</td>\n",
       "    </tr>\n",
       "    <tr>\n",
       "      <th>max</th>\n",
       "      <td>65557.000000</td>\n",
       "      <td>2.0</td>\n",
       "      <td>1.000000</td>\n",
       "      <td>100.000000</td>\n",
       "      <td>48.000000</td>\n",
       "      <td>2020.0</td>\n",
       "      <td>11.0</td>\n",
       "      <td>28.000000</td>\n",
       "    </tr>\n",
       "  </tbody>\n",
       "</table>\n",
       "</div>"
      ],
      "text/plain": [
       "         instanceid     type         onoff        dimmer    weekofyear  \\\n",
       "count  11250.000000  11250.0  11250.000000  11250.000000  11250.000000   \n",
       "mean   65548.533333      2.0      0.349956     80.741422     47.738667   \n",
       "std        6.195614      0.0      0.476977     26.302173      0.439381   \n",
       "min    65537.000000      2.0      0.000000      8.000000     47.000000   \n",
       "25%    65545.000000      2.0      0.000000     50.000000     47.000000   \n",
       "50%    65549.000000      2.0      0.000000    100.000000     48.000000   \n",
       "75%    65554.000000      2.0      1.000000    100.000000     48.000000   \n",
       "max    65557.000000      2.0      1.000000    100.000000     48.000000   \n",
       "\n",
       "          year    month           day  \n",
       "count  11250.0  11250.0  11250.000000  \n",
       "mean    2020.0     11.0     24.373333  \n",
       "std        0.0      0.0      2.260327  \n",
       "min     2020.0     11.0     20.000000  \n",
       "25%     2020.0     11.0     22.000000  \n",
       "50%     2020.0     11.0     24.000000  \n",
       "75%     2020.0     11.0     26.000000  \n",
       "max     2020.0     11.0     28.000000  "
      ]
     },
     "execution_count": 117,
     "metadata": {},
     "output_type": "execute_result"
    }
   ],
   "source": [
    "df.describe()"
   ]
  },
  {
   "cell_type": "code",
   "execution_count": 118,
   "metadata": {},
   "outputs": [
    {
     "data": {
      "text/plain": [
       "instanceid    0\n",
       "type          0\n",
       "onoff         0\n",
       "color         0\n",
       "dimmer        0\n",
       "weekday       0\n",
       "weekofyear    0\n",
       "year          0\n",
       "month         0\n",
       "day           0\n",
       "time          0\n",
       "dtype: int64"
      ]
     },
     "execution_count": 118,
     "metadata": {},
     "output_type": "execute_result"
    }
   ],
   "source": [
    "df.isnull().sum()"
   ]
  },
  {
   "cell_type": "code",
   "execution_count": 119,
   "metadata": {},
   "outputs": [
    {
     "data": {
      "text/plain": [
       "array(['23:00', '23:15', '23:30', '23:45', '00:00', '00:15', '00:30',\n",
       "       '00:45', '01:00', '01:15', '01:30', '01:45', '02:00', '02:15',\n",
       "       '02:30', '02:45', '03:00', '03:15', '03:30', '03:45', '04:00',\n",
       "       '04:15', '04:30', '04:45', '05:00', '05:15', '05:30', '05:45',\n",
       "       '06:00', '06:15', '06:30', '06:45', '07:00', '07:15', '07:30',\n",
       "       '07:45', '08:00', '08:15', '08:30', '08:45', '09:00', '09:15',\n",
       "       '09:30', '09:45', '10:00', '10:15', '10:30', '10:45', '11:00',\n",
       "       '11:15', '11:30', '11:45', '12:00', '12:15', '12:30', '12:45',\n",
       "       '13:00', '13:15', '13:30', '13:45', '14:00', '14:15', '14:30',\n",
       "       '14:45', '15:00', '15:15', '15:30', '15:45', '16:00', '16:15',\n",
       "       '16:30', '16:45', '17:00', '17:15', '17:30', '17:45', '18:00',\n",
       "       '18:15', '18:30', '18:45', '19:00', '19:15', '19:30', '19:45',\n",
       "       '20:00', '20:15', '20:30', '20:45', '21:00', '21:15', '21:30',\n",
       "       '21:45', '22:00', '22:15', '22:30', '22:45'], dtype=object)"
      ]
     },
     "execution_count": 119,
     "metadata": {},
     "output_type": "execute_result"
    }
   ],
   "source": [
    "df.time.unique()"
   ]
  },
  {
   "cell_type": "code",
   "execution_count": 120,
   "metadata": {},
   "outputs": [
    {
     "data": {
      "text/plain": [
       "'16:00'"
      ]
     },
     "execution_count": 120,
     "metadata": {},
     "output_type": "execute_result"
    }
   ],
   "source": [
    "pd.Timestamp(\"16:15\").round(\"1h\").strftime(\"%H:%M\")"
   ]
  },
  {
   "cell_type": "markdown",
   "metadata": {},
   "source": [
    "### Distribution of on/off states"
   ]
  },
  {
   "cell_type": "code",
   "execution_count": 121,
   "metadata": {},
   "outputs": [
    {
     "name": "stdout",
     "output_type": "stream",
     "text": [
      "on=3937, off=7313\n"
     ]
    },
    {
     "data": {
      "image/png": "[encoded data removed]",
      "text/plain": [
       "<Figure size 432x288 with 1 Axes>"
      ]
     },
     "metadata": {},
     "output_type": "display_data"
    }
   ],
   "source": [
    "time_df = df.copy()\n",
    "time_df.time = time_df.time.map(lambda x: pd.Timestamp(x).round('15min'))\n",
    "time_df_on = time_df[time_df.onoff == 1].time\n",
    "time_df_off = time_df[time_df.onoff == 0].time\n",
    "\n",
    "print(\"on=%d, off=%d\" % (len(time_df_on), len(time_df_off)))\n",
    "\n",
    "# fig = plt.figure()\n",
    "# ax = fig.add_subplot(111)\n",
    "plt.hist(time_df_on, bins=24, label=\"on\", alpha=0.5)\n",
    "plt.hist(time_df_off, bins=24, label=\"off\", alpha=0.5)\n",
    "# ax.xaxis.set_major_locator(mdates.HourLocator(byhour=range(0, 23, 1)))\n",
    "ax = plt.gca()\n",
    "ax.xaxis.set_major_formatter(mdates.DateFormatter(\"%H:%M\"))\n",
    "\n",
    "plt.legend()\n",
    "plt.show()"
   ]
  },
  {
   "cell_type": "markdown",
   "metadata": {},
   "source": [
    "### distribution of on states over time with KDE"
   ]
  },
  {
   "cell_type": "code",
   "execution_count": 122,
   "metadata": {},
   "outputs": [],
   "source": [
    "time_df_cnt = time_df.copy()\n",
    "time_df_cnt.time = time_df_cnt.time.map(lambda x: x.strftime(\"%H:%M\"))"
   ]
  },
  {
   "cell_type": "code",
   "execution_count": 123,
   "metadata": {},
   "outputs": [
    {
     "data": {
      "image/png": "[encoded data removed]",
      "text/plain": [
       "<Figure size 360x360 with 1 Axes>"
      ]
     },
     "metadata": {},
     "output_type": "display_data"
    },
    {
     "data": {
      "image/png": "[encoded data removed]",
      "text/plain": [
       "<Figure size 360x360 with 1 Axes>"
      ]
     },
     "metadata": {},
     "output_type": "display_data"
    }
   ],
   "source": [
    "sns.displot(data=time_df_on, label=\"on\", kde=True)\n",
    "ax = plt.gca()\n",
    "ax.xaxis.set_major_formatter(mdates.DateFormatter(\"%H:%M\"))\n",
    "\n",
    "sns.displot(data=time_df_off, label=\"off\", kde=True)\n",
    "ax = plt.gca()\n",
    "ax.xaxis.set_major_formatter(mdates.DateFormatter(\"%H:%M\"))\n",
    "\n",
    "plt.legend()\n",
    "plt.show()"
   ]
  },
  {
   "cell_type": "markdown",
   "metadata": {},
   "source": [
    "### On state for specific lamp over time"
   ]
  },
  {
   "cell_type": "code",
   "execution_count": 124,
   "metadata": {},
   "outputs": [
    {
     "data": {
      "image/png": "[encoded data removed]",
      "text/plain": [
       "<Figure size 1080x504 with 3 Axes>"
      ]
     },
     "metadata": {},
     "output_type": "display_data"
    }
   ],
   "source": [
    "lamp_df = df.copy()\n",
    "lamp_df = lamp_df[lamp_df.instanceid == 65538]\n",
    "lamp_df.time = lamp_df.time.map(lambda x: pd.Timestamp(x).round('1h'))\n",
    "lamp_df_on = lamp_df[lamp_df.onoff == 1].time\n",
    "lamp_df_off = lamp_df[lamp_df.onoff == 0].time\n",
    "\n",
    "figure, axes = plt.subplots(nrows=1, ncols=3, figsize=(15, 7), sharey=True)\n",
    "ax01 = axes[0]\n",
    "ax01.hist(lamp_df_on, bins=24, label=\"on\", alpha=1)\n",
    "ax01.hist(lamp_df_off, bins=24, label=\"off\", alpha=0.75)\n",
    "ax01.xaxis.set_major_formatter(mdates.DateFormatter(\"%H:%M\"))\n",
    "ax01.legend()\n",
    "\n",
    "ax02 = axes[1]\n",
    "ax02.hist(lamp_df_on, bins=24, label=\"off\")\n",
    "ax02.xaxis.set_major_formatter(mdates.DateFormatter(\"%H:%M\"))\n",
    "ax02.legend()\n",
    "\n",
    "ax03 = axes[2]\n",
    "ax03.hist(lamp_df_off, bins=24, label=\"on\")\n",
    "ax03.xaxis.set_major_formatter(mdates.DateFormatter(\"%H:%M\"))\n",
    "ax03.legend()\n",
    "\n",
    "figure.tight_layout()\n",
    "plt.show()"
   ]
  },
  {
   "cell_type": "markdown",
   "metadata": {},
   "source": [
    "## Data preparation"
   ]
  },
  {
   "cell_type": "code",
   "execution_count": 125,
   "metadata": {},
   "outputs": [
    {
     "data": {
      "text/html": [
       "<div>\n",
       "<style scoped>\n",
       "    .dataframe tbody tr th:only-of-type {\n",
       "        vertical-align: middle;\n",
       "    }\n",
       "\n",
       "    .dataframe tbody tr th {\n",
       "        vertical-align: top;\n",
       "    }\n",
       "\n",
       "    .dataframe thead th {\n",
       "        text-align: right;\n",
       "    }\n",
       "</style>\n",
       "<table border=\"1\" class=\"dataframe\">\n",
       "  <thead>\n",
       "    <tr style=\"text-align: right;\">\n",
       "      <th></th>\n",
       "      <th>instanceid</th>\n",
       "      <th>type</th>\n",
       "      <th>onoff</th>\n",
       "      <th>time</th>\n",
       "    </tr>\n",
       "  </thead>\n",
       "  <tbody>\n",
       "    <tr>\n",
       "      <th>0</th>\n",
       "      <td>65537</td>\n",
       "      <td>2</td>\n",
       "      <td>1</td>\n",
       "      <td>23:00</td>\n",
       "    </tr>\n",
       "    <tr>\n",
       "      <th>1</th>\n",
       "      <td>65537</td>\n",
       "      <td>2</td>\n",
       "      <td>1</td>\n",
       "      <td>23:15</td>\n",
       "    </tr>\n",
       "    <tr>\n",
       "      <th>2</th>\n",
       "      <td>65537</td>\n",
       "      <td>2</td>\n",
       "      <td>1</td>\n",
       "      <td>23:30</td>\n",
       "    </tr>\n",
       "    <tr>\n",
       "      <th>3</th>\n",
       "      <td>65537</td>\n",
       "      <td>2</td>\n",
       "      <td>1</td>\n",
       "      <td>23:45</td>\n",
       "    </tr>\n",
       "    <tr>\n",
       "      <th>4</th>\n",
       "      <td>65537</td>\n",
       "      <td>2</td>\n",
       "      <td>0</td>\n",
       "      <td>00:00</td>\n",
       "    </tr>\n",
       "  </tbody>\n",
       "</table>\n",
       "</div>"
      ],
      "text/plain": [
       "   instanceid  type  onoff   time\n",
       "0       65537     2      1  23:00\n",
       "1       65537     2      1  23:15\n",
       "2       65537     2      1  23:30\n",
       "3       65537     2      1  23:45\n",
       "4       65537     2      0  00:00"
      ]
     },
     "execution_count": 125,
     "metadata": {},
     "output_type": "execute_result"
    }
   ],
   "source": [
    "# del df[\"weekday\"]\n",
    "del df[\"weekofyear\"] \n",
    "del df[\"year\"] \n",
    "del df[\"month\"] \n",
    "del df[\"day\"]\n",
    "del df[\"color\"]\n",
    "del df[\"dimmer\"]\n",
    "df.head()"
   ]
  },
  {
   "cell_type": "code",
   "execution_count": 126,
   "metadata": {},
   "outputs": [],
   "source": [
    "from sklearn.model_selection import train_test_split"
   ]
  },
  {
   "cell_type": "code",
   "execution_count": 127,
   "metadata": {},
   "outputs": [],
   "source": [
    "df_train_full, df_test = train_test_split(df, test_size=0.2, random_state=11)\n",
    "df_train, df_val = train_test_split(df_train_full, test_size=0.25, random_state=11)"
   ]
  },
  {
   "cell_type": "code",
   "execution_count": 128,
   "metadata": {},
   "outputs": [],
   "source": [
    "y_train_full_onoff = (df_train_full.onoff == 1).values\n",
    "y_train_onoff = (df_train.onoff == 1).values\n",
    "y_val_onoff = (df_val.onoff == 1).values\n",
    "y_test_onoff = (df_test.onoff == 1).values"
   ]
  },
  {
   "cell_type": "code",
   "execution_count": 129,
   "metadata": {},
   "outputs": [],
   "source": [
    "del df_train_full[\"onoff\"]\n",
    "del df_train[\"onoff\"]\n",
    "del df_val[\"onoff\"]\n",
    "del df_test[\"onoff\"]"
   ]
  },
  {
   "cell_type": "markdown",
   "metadata": {},
   "source": [
    "### One-Hot encoding"
   ]
  },
  {
   "cell_type": "code",
   "execution_count": 130,
   "metadata": {},
   "outputs": [],
   "source": [
    "from sklearn.feature_extraction import DictVectorizer"
   ]
  },
  {
   "cell_type": "code",
   "execution_count": 131,
   "metadata": {},
   "outputs": [],
   "source": [
    "dv = DictVectorizer(sparse=False)\n",
    "dv_full = DictVectorizer(sparse=False)"
   ]
  },
  {
   "cell_type": "code",
   "execution_count": 132,
   "metadata": {},
   "outputs": [],
   "source": [
    "dict_train_full_onoff = df_train_full.to_dict(orient=\"records\")\n",
    "dict_train_onoff = df_train.to_dict(orient=\"records\")\n",
    "dict_val_onoff = df_val.to_dict(orient=\"records\")\n",
    "dict_test_onoff = df_test.to_dict(orient=\"records\")"
   ]
  },
  {
   "cell_type": "code",
   "execution_count": 133,
   "metadata": {},
   "outputs": [],
   "source": [
    "X_train_full_onoff = dv_full.fit_transform(dict_train_full_onoff)\n",
    "X_train_onoff = dv.fit_transform(dict_train_onoff)\n",
    "X_val_onoff = dv.transform(dict_val_onoff)\n",
    "X_test_onoff = dv_full.transform(dict_test_onoff)"
   ]
  },
  {
   "cell_type": "markdown",
   "metadata": {},
   "source": [
    "## Training"
   ]
  },
  {
   "cell_type": "markdown",
   "metadata": {},
   "source": [
    "### Logistic Regression"
   ]
  },
  {
   "cell_type": "code",
   "execution_count": 134,
   "metadata": {},
   "outputs": [],
   "source": [
    "from sklearn.linear_model import LogisticRegression\n",
    "from sklearn.metrics import roc_auc_score"
   ]
  },
  {
   "cell_type": "markdown",
   "metadata": {},
   "source": [
    "#### Optimization"
   ]
  },
  {
   "cell_type": "code",
   "execution_count": 135,
   "metadata": {},
   "outputs": [
    {
     "name": "stdout",
     "output_type": "stream",
     "text": [
      "C=0.001 => auc = 0.606\n",
      "C=0.010 => auc = 0.606\n",
      "C=0.100 => auc = 0.606\n",
      "C=0.500 => auc = 0.606\n",
      "C=1.000 => auc = 0.606\n",
      "C=10.000 => auc = 0.606\n"
     ]
    }
   ],
   "source": [
    "for C in [0.001, 0.01, 0.1, 0.5, 1, 10]:\n",
    "    lr = LogisticRegression(solver='liblinear', C=C, random_state=1)\n",
    "    lr.fit(X_train_onoff, y_train_onoff)\n",
    "    \n",
    "    y_pred = lr.predict_proba(X_val_onoff)[:, 1]\n",
    "    auc = roc_auc_score(y_val_onoff, y_pred)\n",
    "    print('C=%.3f => auc = %0.3f' % (C, auc))\n"
   ]
  },
  {
   "cell_type": "code",
   "execution_count": 136,
   "metadata": {},
   "outputs": [],
   "source": [
    "#### Final model"
   ]
  },
  {
   "cell_type": "code",
   "execution_count": 137,
   "metadata": {},
   "outputs": [
    {
     "data": {
      "text/plain": [
       "LogisticRegression(C=0.1, random_state=1, solver='liblinear')"
      ]
     },
     "execution_count": 137,
     "metadata": {},
     "output_type": "execute_result"
    }
   ],
   "source": [
    "lr = LogisticRegression(solver='liblinear', C=0.1, random_state=1)\n",
    "lr.fit(X_train_full_onoff, y_train_full_onoff)"
   ]
  },
  {
   "cell_type": "code",
   "execution_count": 138,
   "metadata": {},
   "outputs": [],
   "source": [
    "# dict(zip(dv.get_feature_names(), lr.coef_[0].round(5)))"
   ]
  },
  {
   "cell_type": "markdown",
   "metadata": {},
   "source": [
    "### Decision trees"
   ]
  },
  {
   "cell_type": "code",
   "execution_count": 139,
   "metadata": {},
   "outputs": [],
   "source": [
    "from sklearn.tree import DecisionTreeClassifier"
   ]
  },
  {
   "cell_type": "markdown",
   "metadata": {},
   "source": [
    "#### Final model"
   ]
  },
  {
   "cell_type": "code",
   "execution_count": 140,
   "metadata": {},
   "outputs": [
    {
     "data": {
      "text/plain": [
       "DecisionTreeClassifier()"
      ]
     },
     "execution_count": 140,
     "metadata": {},
     "output_type": "execute_result"
    }
   ],
   "source": [
    "dt = DecisionTreeClassifier()\n",
    "dt.fit(X_train_full_onoff, y_train_full_onoff)"
   ]
  },
  {
   "cell_type": "markdown",
   "metadata": {},
   "source": [
    "### Random forest"
   ]
  },
  {
   "cell_type": "code",
   "execution_count": 141,
   "metadata": {},
   "outputs": [],
   "source": [
    "from sklearn.ensemble import RandomForestClassifier"
   ]
  },
  {
   "cell_type": "markdown",
   "metadata": {},
   "source": [
    "#### Final model"
   ]
  },
  {
   "cell_type": "code",
   "execution_count": 142,
   "metadata": {},
   "outputs": [
    {
     "data": {
      "text/plain": [
       "RandomForestClassifier(n_estimators=10, random_state=3)"
      ]
     },
     "execution_count": 142,
     "metadata": {},
     "output_type": "execute_result"
    }
   ],
   "source": [
    "rf = RandomForestClassifier(n_estimators=10, random_state=3)\n",
    "rf.fit(X_train_full_onoff, y_train_full_onoff)"
   ]
  },
  {
   "cell_type": "markdown",
   "metadata": {},
   "source": [
    "## Evaluation"
   ]
  },
  {
   "cell_type": "markdown",
   "metadata": {},
   "source": [
    "### Logistic regression"
   ]
  },
  {
   "cell_type": "code",
   "execution_count": 143,
   "metadata": {},
   "outputs": [
    {
     "name": "stdout",
     "output_type": "stream",
     "text": [
      "LR accuracy: 0.6475555555555556\n",
      "LR auc: 0.5813972811171186\n"
     ]
    }
   ],
   "source": [
    "y_pred = lr.predict_proba(X_test_onoff)[:, 1]\n",
    "accuracy = (y_test_onoff == (y_pred >= 0.5)).mean()\n",
    "\n",
    "auc = roc_auc_score(y_test_onoff, y_pred)\n",
    "\n",
    "print(\"LR accuracy:\", accuracy)\n",
    "print(\"LR auc:\", auc)"
   ]
  },
  {
   "cell_type": "markdown",
   "metadata": {},
   "source": [
    "### Decision trees"
   ]
  },
  {
   "cell_type": "code",
   "execution_count": 144,
   "metadata": {},
   "outputs": [
    {
     "name": "stdout",
     "output_type": "stream",
     "text": [
      "LR accuracy: 0.6564444444444445\n",
      "LR auc: 0.5797891814183993\n"
     ]
    }
   ],
   "source": [
    "y_pred = dt.predict_proba(X_test_onoff)[:, 1]\n",
    "accuracy = (y_test_onoff == (y_pred >= 0.5)).mean()\n",
    "\n",
    "auc = roc_auc_score(y_test_onoff, y_pred) \n",
    "\n",
    "print(\"LR accuracy:\", accuracy)\n",
    "print(\"LR auc:\", auc)"
   ]
  },
  {
   "cell_type": "markdown",
   "metadata": {},
   "source": [
    "### Random forest"
   ]
  },
  {
   "cell_type": "code",
   "execution_count": 145,
   "metadata": {},
   "outputs": [
    {
     "name": "stdout",
     "output_type": "stream",
     "text": [
      "LR accuracy: 0.6724444444444444\n",
      "LR auc: 0.5812116312864538\n"
     ]
    }
   ],
   "source": [
    "y_pred = rf.predict_proba(X_test_onoff)[:, 1]\n",
    "accuracy = (y_test_onoff == (y_pred >= 0.5)).mean()\n",
    "\n",
    "auc = roc_auc_score(y_test_onoff, y_pred)\n",
    "\n",
    "print(\"LR accuracy:\", accuracy)\n",
    "print(\"LR auc:\", auc)"
   ]
  },
  {
   "cell_type": "markdown",
   "metadata": {},
   "source": [
    "## Testing the model(s)"
   ]
  },
  {
   "cell_type": "code",
   "execution_count": 146,
   "metadata": {},
   "outputs": [],
   "source": [
    "example = {\n",
    "    \"instanceid\": 65537,\n",
    "    \"type\": 2,\n",
    "    \"weekday\": \"Tuesday\",\n",
    "    \"time\": \"00:00\"\n",
    "}"
   ]
  },
  {
   "cell_type": "code",
   "execution_count": 147,
   "metadata": {},
   "outputs": [
    {
     "data": {
      "text/html": [
       "<div>\n",
       "<style scoped>\n",
       "    .dataframe tbody tr th:only-of-type {\n",
       "        vertical-align: middle;\n",
       "    }\n",
       "\n",
       "    .dataframe tbody tr th {\n",
       "        vertical-align: top;\n",
       "    }\n",
       "\n",
       "    .dataframe thead th {\n",
       "        text-align: right;\n",
       "    }\n",
       "</style>\n",
       "<table border=\"1\" class=\"dataframe\">\n",
       "  <thead>\n",
       "    <tr style=\"text-align: right;\">\n",
       "      <th></th>\n",
       "      <th>instanceid</th>\n",
       "      <th>time=00:00</th>\n",
       "      <th>time=00:15</th>\n",
       "      <th>time=00:30</th>\n",
       "      <th>time=00:45</th>\n",
       "      <th>time=01:00</th>\n",
       "      <th>time=01:15</th>\n",
       "      <th>time=01:30</th>\n",
       "      <th>time=01:45</th>\n",
       "      <th>time=02:00</th>\n",
       "      <th>...</th>\n",
       "      <th>time=21:45</th>\n",
       "      <th>time=22:00</th>\n",
       "      <th>time=22:15</th>\n",
       "      <th>time=22:30</th>\n",
       "      <th>time=22:45</th>\n",
       "      <th>time=23:00</th>\n",
       "      <th>time=23:15</th>\n",
       "      <th>time=23:30</th>\n",
       "      <th>time=23:45</th>\n",
       "      <th>type</th>\n",
       "    </tr>\n",
       "  </thead>\n",
       "  <tbody>\n",
       "    <tr>\n",
       "      <th>0</th>\n",
       "      <td>65537.0</td>\n",
       "      <td>1.0</td>\n",
       "      <td>0.0</td>\n",
       "      <td>0.0</td>\n",
       "      <td>0.0</td>\n",
       "      <td>0.0</td>\n",
       "      <td>0.0</td>\n",
       "      <td>0.0</td>\n",
       "      <td>0.0</td>\n",
       "      <td>0.0</td>\n",
       "      <td>...</td>\n",
       "      <td>0.0</td>\n",
       "      <td>0.0</td>\n",
       "      <td>0.0</td>\n",
       "      <td>0.0</td>\n",
       "      <td>0.0</td>\n",
       "      <td>0.0</td>\n",
       "      <td>0.0</td>\n",
       "      <td>0.0</td>\n",
       "      <td>0.0</td>\n",
       "      <td>2.0</td>\n",
       "    </tr>\n",
       "  </tbody>\n",
       "</table>\n",
       "<p>1 rows × 98 columns</p>\n",
       "</div>"
      ],
      "text/plain": [
       "   instanceid  time=00:00  time=00:15  time=00:30  time=00:45  time=01:00  \\\n",
       "0     65537.0         1.0         0.0         0.0         0.0         0.0   \n",
       "\n",
       "   time=01:15  time=01:30  time=01:45  time=02:00  ...  time=21:45  \\\n",
       "0         0.0         0.0         0.0         0.0  ...         0.0   \n",
       "\n",
       "   time=22:00  time=22:15  time=22:30  time=22:45  time=23:00  time=23:15  \\\n",
       "0         0.0         0.0         0.0         0.0         0.0         0.0   \n",
       "\n",
       "   time=23:30  time=23:45  type  \n",
       "0         0.0         0.0   2.0  \n",
       "\n",
       "[1 rows x 98 columns]"
      ]
     },
     "execution_count": 147,
     "metadata": {},
     "output_type": "execute_result"
    }
   ],
   "source": [
    "X_example = dv_full.transform([example])\n",
    "pd.DataFrame(X_example, columns=dv.get_feature_names())"
   ]
  },
  {
   "cell_type": "code",
   "execution_count": 148,
   "metadata": {},
   "outputs": [
    {
     "data": {
      "text/plain": [
       "0.4954761904761905"
      ]
     },
     "execution_count": 148,
     "metadata": {},
     "output_type": "execute_result"
    }
   ],
   "source": [
    "rf.predict_proba(X_example)[0, 1]"
   ]
  },
  {
   "cell_type": "code",
   "execution_count": 149,
   "metadata": {},
   "outputs": [
    {
     "data": {
      "text/plain": [
       "False"
      ]
     },
     "execution_count": 149,
     "metadata": {},
     "output_type": "execute_result"
    }
   ],
   "source": [
    "rf.predict_proba(X_example)[0, 1] >= 0.5"
   ]
  },
  {
   "cell_type": "code",
   "execution_count": null,
   "metadata": {},
   "outputs": [],
   "source": []
  }
 ],
 "metadata": {
  "kernelspec": {
   "display_name": "Python 3",
   "language": "python",
   "name": "python3"
  }
 },
 "nbformat": 4,
 "nbformat_minor": 2
}
