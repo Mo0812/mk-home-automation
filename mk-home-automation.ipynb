{
 "metadata": {
  "language_info": {
   "codemirror_mode": {
    "name": "ipython",
    "version": 3
   },
   "file_extension": ".py",
   "mimetype": "text/x-python",
   "name": "python",
   "nbconvert_exporter": "python",
   "pygments_lexer": "ipython3",
   "version": "3.8.5-final"
  },
  "orig_nbformat": 2,
  "kernelspec": {
   "name": "python3",
   "display_name": "Python 3"
  }
 },
 "nbformat": 4,
 "nbformat_minor": 2,
 "cells": [
  {
   "cell_type": "code",
   "execution_count": 1,
   "metadata": {},
   "outputs": [],
   "source": [
    "import pandas as pd"
   ]
  },
  {
   "cell_type": "code",
   "execution_count": 2,
   "metadata": {},
   "outputs": [],
   "source": [
    "df = pd.read_csv(\"automation-protocol.csv\")"
   ]
  },
  {
   "cell_type": "code",
   "execution_count": 16,
   "metadata": {},
   "outputs": [
    {
     "output_type": "execute_result",
     "data": {
      "text/plain": [
       "    id  instanceid  type    lastseen  onoff   color  dimmer  \\\n",
       "0  270       65537     2  1605867202      1  efd275      51   \n",
       "1  271       65538     2  1605868423      1  efd275      48   \n",
       "2  272       65540     2  1605882795      0  efd275     100   \n",
       "3  273       65545     2  1605831076      0  efd275      50   \n",
       "4  274       65546     2  1605892658      0  f1e0b5      50   \n",
       "\n",
       "               protocoltime  \n",
       "0  2020-11-20T21:58:04.000Z  \n",
       "1  2020-11-20T21:58:04.000Z  \n",
       "2  2020-11-20T21:58:04.000Z  \n",
       "3  2020-11-20T21:58:04.000Z  \n",
       "4  2020-11-20T21:58:04.000Z  "
      ],
      "text/html": "<div>\n<style scoped>\n    .dataframe tbody tr th:only-of-type {\n        vertical-align: middle;\n    }\n\n    .dataframe tbody tr th {\n        vertical-align: top;\n    }\n\n    .dataframe thead th {\n        text-align: right;\n    }\n</style>\n<table border=\"1\" class=\"dataframe\">\n  <thead>\n    <tr style=\"text-align: right;\">\n      <th></th>\n      <th>id</th>\n      <th>instanceid</th>\n      <th>type</th>\n      <th>lastseen</th>\n      <th>onoff</th>\n      <th>color</th>\n      <th>dimmer</th>\n      <th>protocoltime</th>\n    </tr>\n  </thead>\n  <tbody>\n    <tr>\n      <th>0</th>\n      <td>270</td>\n      <td>65537</td>\n      <td>2</td>\n      <td>1605867202</td>\n      <td>1</td>\n      <td>efd275</td>\n      <td>51</td>\n      <td>2020-11-20T21:58:04.000Z</td>\n    </tr>\n    <tr>\n      <th>1</th>\n      <td>271</td>\n      <td>65538</td>\n      <td>2</td>\n      <td>1605868423</td>\n      <td>1</td>\n      <td>efd275</td>\n      <td>48</td>\n      <td>2020-11-20T21:58:04.000Z</td>\n    </tr>\n    <tr>\n      <th>2</th>\n      <td>272</td>\n      <td>65540</td>\n      <td>2</td>\n      <td>1605882795</td>\n      <td>0</td>\n      <td>efd275</td>\n      <td>100</td>\n      <td>2020-11-20T21:58:04.000Z</td>\n    </tr>\n    <tr>\n      <th>3</th>\n      <td>273</td>\n      <td>65545</td>\n      <td>2</td>\n      <td>1605831076</td>\n      <td>0</td>\n      <td>efd275</td>\n      <td>50</td>\n      <td>2020-11-20T21:58:04.000Z</td>\n    </tr>\n    <tr>\n      <th>4</th>\n      <td>274</td>\n      <td>65546</td>\n      <td>2</td>\n      <td>1605892658</td>\n      <td>0</td>\n      <td>f1e0b5</td>\n      <td>50</td>\n      <td>2020-11-20T21:58:04.000Z</td>\n    </tr>\n  </tbody>\n</table>\n</div>"
     },
     "metadata": {},
     "execution_count": 16
    }
   ],
   "source": [
    "df.columns = df.columns.str.lower()\n",
    "df.head()"
   ]
  },
  {
   "cell_type": "code",
   "execution_count": 19,
   "metadata": {},
   "outputs": [
    {
     "output_type": "execute_result",
     "data": {
      "text/plain": [
       "    id  instanceid  type    lastseen  onoff   color  dimmer  \\\n",
       "0  270       65537     2  1605867202      1  efd275      51   \n",
       "1  271       65538     2  1605868423      1  efd275      48   \n",
       "2  272       65540     2  1605882795      0  efd275     100   \n",
       "3  273       65545     2  1605831076      0  efd275      50   \n",
       "4  274       65546     2  1605892658      0  f1e0b5      50   \n",
       "\n",
       "               protocoltime  \n",
       "0 2020-11-20 21:58:04+00:00  \n",
       "1 2020-11-20 21:58:04+00:00  \n",
       "2 2020-11-20 21:58:04+00:00  \n",
       "3 2020-11-20 21:58:04+00:00  \n",
       "4 2020-11-20 21:58:04+00:00  "
      ],
      "text/html": "<div>\n<style scoped>\n    .dataframe tbody tr th:only-of-type {\n        vertical-align: middle;\n    }\n\n    .dataframe tbody tr th {\n        vertical-align: top;\n    }\n\n    .dataframe thead th {\n        text-align: right;\n    }\n</style>\n<table border=\"1\" class=\"dataframe\">\n  <thead>\n    <tr style=\"text-align: right;\">\n      <th></th>\n      <th>id</th>\n      <th>instanceid</th>\n      <th>type</th>\n      <th>lastseen</th>\n      <th>onoff</th>\n      <th>color</th>\n      <th>dimmer</th>\n      <th>protocoltime</th>\n    </tr>\n  </thead>\n  <tbody>\n    <tr>\n      <th>0</th>\n      <td>270</td>\n      <td>65537</td>\n      <td>2</td>\n      <td>1605867202</td>\n      <td>1</td>\n      <td>efd275</td>\n      <td>51</td>\n      <td>2020-11-20 21:58:04+00:00</td>\n    </tr>\n    <tr>\n      <th>1</th>\n      <td>271</td>\n      <td>65538</td>\n      <td>2</td>\n      <td>1605868423</td>\n      <td>1</td>\n      <td>efd275</td>\n      <td>48</td>\n      <td>2020-11-20 21:58:04+00:00</td>\n    </tr>\n    <tr>\n      <th>2</th>\n      <td>272</td>\n      <td>65540</td>\n      <td>2</td>\n      <td>1605882795</td>\n      <td>0</td>\n      <td>efd275</td>\n      <td>100</td>\n      <td>2020-11-20 21:58:04+00:00</td>\n    </tr>\n    <tr>\n      <th>3</th>\n      <td>273</td>\n      <td>65545</td>\n      <td>2</td>\n      <td>1605831076</td>\n      <td>0</td>\n      <td>efd275</td>\n      <td>50</td>\n      <td>2020-11-20 21:58:04+00:00</td>\n    </tr>\n    <tr>\n      <th>4</th>\n      <td>274</td>\n      <td>65546</td>\n      <td>2</td>\n      <td>1605892658</td>\n      <td>0</td>\n      <td>f1e0b5</td>\n      <td>50</td>\n      <td>2020-11-20 21:58:04+00:00</td>\n    </tr>\n  </tbody>\n</table>\n</div>"
     },
     "metadata": {},
     "execution_count": 19
    }
   ],
   "source": [
    "df.protocoltime = pd.to_datetime(df.protocoltime)\n",
    "df.head()"
   ]
  },
  {
   "cell_type": "code",
   "execution_count": 22,
   "metadata": {},
   "outputs": [
    {
     "output_type": "execute_result",
     "data": {
      "text/plain": [
       "    id  instanceid  type    lastseen  onoff   color  dimmer  \\\n",
       "0  270       65537     2  1605867202      1  efd275      51   \n",
       "1  271       65538     2  1605868423      1  efd275      48   \n",
       "2  272       65540     2  1605882795      0  efd275     100   \n",
       "3  273       65545     2  1605831076      0  efd275      50   \n",
       "4  274       65546     2  1605892658      0  f1e0b5      50   \n",
       "\n",
       "               protocoltime  \n",
       "0 2020-11-20 22:00:00+00:00  \n",
       "1 2020-11-20 22:00:00+00:00  \n",
       "2 2020-11-20 22:00:00+00:00  \n",
       "3 2020-11-20 22:00:00+00:00  \n",
       "4 2020-11-20 22:00:00+00:00  "
      ],
      "text/html": "<div>\n<style scoped>\n    .dataframe tbody tr th:only-of-type {\n        vertical-align: middle;\n    }\n\n    .dataframe tbody tr th {\n        vertical-align: top;\n    }\n\n    .dataframe thead th {\n        text-align: right;\n    }\n</style>\n<table border=\"1\" class=\"dataframe\">\n  <thead>\n    <tr style=\"text-align: right;\">\n      <th></th>\n      <th>id</th>\n      <th>instanceid</th>\n      <th>type</th>\n      <th>lastseen</th>\n      <th>onoff</th>\n      <th>color</th>\n      <th>dimmer</th>\n      <th>protocoltime</th>\n    </tr>\n  </thead>\n  <tbody>\n    <tr>\n      <th>0</th>\n      <td>270</td>\n      <td>65537</td>\n      <td>2</td>\n      <td>1605867202</td>\n      <td>1</td>\n      <td>efd275</td>\n      <td>51</td>\n      <td>2020-11-20 22:00:00+00:00</td>\n    </tr>\n    <tr>\n      <th>1</th>\n      <td>271</td>\n      <td>65538</td>\n      <td>2</td>\n      <td>1605868423</td>\n      <td>1</td>\n      <td>efd275</td>\n      <td>48</td>\n      <td>2020-11-20 22:00:00+00:00</td>\n    </tr>\n    <tr>\n      <th>2</th>\n      <td>272</td>\n      <td>65540</td>\n      <td>2</td>\n      <td>1605882795</td>\n      <td>0</td>\n      <td>efd275</td>\n      <td>100</td>\n      <td>2020-11-20 22:00:00+00:00</td>\n    </tr>\n    <tr>\n      <th>3</th>\n      <td>273</td>\n      <td>65545</td>\n      <td>2</td>\n      <td>1605831076</td>\n      <td>0</td>\n      <td>efd275</td>\n      <td>50</td>\n      <td>2020-11-20 22:00:00+00:00</td>\n    </tr>\n    <tr>\n      <th>4</th>\n      <td>274</td>\n      <td>65546</td>\n      <td>2</td>\n      <td>1605892658</td>\n      <td>0</td>\n      <td>f1e0b5</td>\n      <td>50</td>\n      <td>2020-11-20 22:00:00+00:00</td>\n    </tr>\n  </tbody>\n</table>\n</div>"
     },
     "metadata": {},
     "execution_count": 22
    }
   ],
   "source": [
    "df.protocoltime = df.protocoltime.round('15min')\n",
    "df.head()"
   ]
  },
  {
   "cell_type": "code",
   "execution_count": null,
   "metadata": {},
   "outputs": [],
   "source": []
  }
 ]
}